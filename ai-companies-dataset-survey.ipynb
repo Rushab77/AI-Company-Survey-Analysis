{
 "cells": [
  {
   "cell_type": "markdown",
   "id": "b9422838",
   "metadata": {
    "papermill": {
     "duration": 0.018434,
     "end_time": "2022-07-08T06:17:47.733784",
     "exception": false,
     "start_time": "2022-07-08T06:17:47.715350",
     "status": "completed"
    },
    "tags": []
   },
   "source": [
    "## Importing the Packages."
   ]
  },
  {
   "cell_type": "code",
   "execution_count": 1,
   "id": "4b94b9b1",
   "metadata": {
    "execution": {
     "iopub.execute_input": "2022-07-08T06:17:47.771415Z",
     "iopub.status.busy": "2022-07-08T06:17:47.770860Z",
     "iopub.status.idle": "2022-07-08T06:17:48.926862Z",
     "shell.execute_reply": "2022-07-08T06:17:48.925481Z"
    },
    "papermill": {
     "duration": 1.178448,
     "end_time": "2022-07-08T06:17:48.929909",
     "exception": false,
     "start_time": "2022-07-08T06:17:47.751461",
     "status": "completed"
    },
    "tags": []
   },
   "outputs": [],
   "source": [
    "# Importing the libraries.\n",
    "import pandas as pd\n",
    "import numpy as np\n",
    "import matplotlib.pyplot as plt\n",
    "import seaborn as sns"
   ]
  },
  {
   "cell_type": "code",
   "execution_count": 2,
   "id": "080b54a8",
   "metadata": {
    "execution": {
     "iopub.execute_input": "2022-07-08T06:17:48.968069Z",
     "iopub.status.busy": "2022-07-08T06:17:48.967651Z",
     "iopub.status.idle": "2022-07-08T06:17:48.972831Z",
     "shell.execute_reply": "2022-07-08T06:17:48.971542Z"
    },
    "papermill": {
     "duration": 0.027779,
     "end_time": "2022-07-08T06:17:48.975287",
     "exception": false,
     "start_time": "2022-07-08T06:17:48.947508",
     "status": "completed"
    },
    "tags": []
   },
   "outputs": [],
   "source": [
    "import warnings\n",
    "warnings.filterwarnings(\"ignore\")"
   ]
  },
  {
   "cell_type": "markdown",
   "id": "6d697fcd",
   "metadata": {
    "papermill": {
     "duration": 0.017219,
     "end_time": "2022-07-08T06:17:49.009924",
     "exception": false,
     "start_time": "2022-07-08T06:17:48.992705",
     "status": "completed"
    },
    "tags": []
   },
   "source": [
    "## Reading datasets from the csv files."
   ]
  },
  {
   "cell_type": "code",
   "execution_count": 3,
   "id": "35550ce1",
   "metadata": {
    "execution": {
     "iopub.execute_input": "2022-07-08T06:17:49.046472Z",
     "iopub.status.busy": "2022-07-08T06:17:49.045834Z",
     "iopub.status.idle": "2022-07-08T06:17:49.080845Z",
     "shell.execute_reply": "2022-07-08T06:17:49.079656Z"
    },
    "papermill": {
     "duration": 0.05591,
     "end_time": "2022-07-08T06:17:49.083456",
     "exception": false,
     "start_time": "2022-07-08T06:17:49.027546",
     "status": "completed"
    },
    "tags": []
   },
   "outputs": [],
   "source": [
    "df = pd.read_csv('../input/ai-companies/AI_Companies.csv')"
   ]
  },
  {
   "cell_type": "code",
   "execution_count": 4,
   "id": "50bb541b",
   "metadata": {
    "execution": {
     "iopub.execute_input": "2022-07-08T06:17:49.119286Z",
     "iopub.status.busy": "2022-07-08T06:17:49.118879Z",
     "iopub.status.idle": "2022-07-08T06:17:49.141520Z",
     "shell.execute_reply": "2022-07-08T06:17:49.140634Z"
    },
    "papermill": {
     "duration": 0.043732,
     "end_time": "2022-07-08T06:17:49.144265",
     "exception": false,
     "start_time": "2022-07-08T06:17:49.100533",
     "status": "completed"
    },
    "tags": []
   },
   "outputs": [
    {
     "data": {
      "text/html": [
       "<div>\n",
       "<style scoped>\n",
       "    .dataframe tbody tr th:only-of-type {\n",
       "        vertical-align: middle;\n",
       "    }\n",
       "\n",
       "    .dataframe tbody tr th {\n",
       "        vertical-align: top;\n",
       "    }\n",
       "\n",
       "    .dataframe thead th {\n",
       "        text-align: right;\n",
       "    }\n",
       "</style>\n",
       "<table border=\"1\" class=\"dataframe\">\n",
       "  <thead>\n",
       "    <tr style=\"text-align: right;\">\n",
       "      <th></th>\n",
       "      <th>Company_Name</th>\n",
       "      <th>Website</th>\n",
       "      <th>Location</th>\n",
       "      <th>Minimum Project Size</th>\n",
       "      <th>Average Hourly Rate</th>\n",
       "      <th>Number of Employees</th>\n",
       "      <th>Percent AI Service Focus</th>\n",
       "      <th>Unnamed: 7</th>\n",
       "    </tr>\n",
       "  </thead>\n",
       "  <tbody>\n",
       "    <tr>\n",
       "      <th>0</th>\n",
       "      <td>Smith.ai</td>\n",
       "      <td>https://smith.ai/</td>\n",
       "      <td>Los Altos, CA</td>\n",
       "      <td>Undisclosed</td>\n",
       "      <td>Undisclosed</td>\n",
       "      <td>250 - 999</td>\n",
       "      <td>10%</td>\n",
       "      <td>NaN</td>\n",
       "    </tr>\n",
       "    <tr>\n",
       "      <th>1</th>\n",
       "      <td>MooveIt</td>\n",
       "      <td>https://moove-it.com/</td>\n",
       "      <td>Austin, TX</td>\n",
       "      <td>$100,000+</td>\n",
       "      <td>$50 - $99 / hr</td>\n",
       "      <td>50 - 249</td>\n",
       "      <td>15%</td>\n",
       "      <td>NaN</td>\n",
       "    </tr>\n",
       "    <tr>\n",
       "      <th>2</th>\n",
       "      <td>TechSpeedInc</td>\n",
       "      <td>http://www.techspeed.com/</td>\n",
       "      <td>Portland, OR</td>\n",
       "      <td>$1,000+</td>\n",
       "      <td>&lt; $25 / hr</td>\n",
       "      <td>50 - 249</td>\n",
       "      <td>40%</td>\n",
       "      <td>NaN</td>\n",
       "    </tr>\n",
       "    <tr>\n",
       "      <th>3</th>\n",
       "      <td>WillDom</td>\n",
       "      <td>https://willdom.com/</td>\n",
       "      <td>Fort Lauderdale, FL</td>\n",
       "      <td>$10,000+</td>\n",
       "      <td>$50 - $99 / hr</td>\n",
       "      <td>250 - 999</td>\n",
       "      <td>10%</td>\n",
       "      <td>NaN</td>\n",
       "    </tr>\n",
       "    <tr>\n",
       "      <th>4</th>\n",
       "      <td>Icreon</td>\n",
       "      <td>https://www.icreon.com/en</td>\n",
       "      <td>New York, NY</td>\n",
       "      <td>$50,000+</td>\n",
       "      <td>$100 - $149 / hr</td>\n",
       "      <td>250 - 999</td>\n",
       "      <td>10%</td>\n",
       "      <td>NaN</td>\n",
       "    </tr>\n",
       "  </tbody>\n",
       "</table>\n",
       "</div>"
      ],
      "text/plain": [
       "   Company_Name                    Website             Location  \\\n",
       "0      Smith.ai          https://smith.ai/        Los Altos, CA   \n",
       "1       MooveIt      https://moove-it.com/           Austin, TX   \n",
       "2  TechSpeedInc  http://www.techspeed.com/         Portland, OR   \n",
       "3       WillDom       https://willdom.com/  Fort Lauderdale, FL   \n",
       "4        Icreon  https://www.icreon.com/en         New York, NY   \n",
       "\n",
       "  Minimum Project Size Average Hourly Rate Number of Employees  \\\n",
       "0          Undisclosed         Undisclosed           250 - 999   \n",
       "1            $100,000+      $50 - $99 / hr            50 - 249   \n",
       "2              $1,000+          < $25 / hr            50 - 249   \n",
       "3             $10,000+      $50 - $99 / hr           250 - 999   \n",
       "4             $50,000+    $100 - $149 / hr           250 - 999   \n",
       "\n",
       "  Percent AI Service Focus Unnamed: 7  \n",
       "0                      10%        NaN  \n",
       "1                      15%        NaN  \n",
       "2                      40%        NaN  \n",
       "3                      10%        NaN  \n",
       "4                      10%        NaN  "
      ]
     },
     "execution_count": 4,
     "metadata": {},
     "output_type": "execute_result"
    }
   ],
   "source": [
    "## Displaying the first couple of information in the dataset.\n",
    "df.head()"
   ]
  },
  {
   "cell_type": "code",
   "execution_count": 5,
   "id": "85bc942b",
   "metadata": {
    "execution": {
     "iopub.execute_input": "2022-07-08T06:17:49.181368Z",
     "iopub.status.busy": "2022-07-08T06:17:49.180216Z",
     "iopub.status.idle": "2022-07-08T06:17:49.187659Z",
     "shell.execute_reply": "2022-07-08T06:17:49.186541Z"
    },
    "papermill": {
     "duration": 0.028335,
     "end_time": "2022-07-08T06:17:49.190010",
     "exception": false,
     "start_time": "2022-07-08T06:17:49.161675",
     "status": "completed"
    },
    "tags": []
   },
   "outputs": [
    {
     "data": {
      "text/plain": [
       "(3100, 8)"
      ]
     },
     "execution_count": 5,
     "metadata": {},
     "output_type": "execute_result"
    }
   ],
   "source": [
    "## Checking the shape of the dataframe.\n",
    "df.shape"
   ]
  },
  {
   "cell_type": "code",
   "execution_count": 6,
   "id": "e8cc1303",
   "metadata": {
    "execution": {
     "iopub.execute_input": "2022-07-08T06:17:49.229082Z",
     "iopub.status.busy": "2022-07-08T06:17:49.228259Z",
     "iopub.status.idle": "2022-07-08T06:17:49.257647Z",
     "shell.execute_reply": "2022-07-08T06:17:49.256500Z"
    },
    "papermill": {
     "duration": 0.054195,
     "end_time": "2022-07-08T06:17:49.262272",
     "exception": false,
     "start_time": "2022-07-08T06:17:49.208077",
     "status": "completed"
    },
    "tags": []
   },
   "outputs": [
    {
     "name": "stdout",
     "output_type": "stream",
     "text": [
      "<class 'pandas.core.frame.DataFrame'>\n",
      "RangeIndex: 3100 entries, 0 to 3099\n",
      "Data columns (total 8 columns):\n",
      " #   Column                    Non-Null Count  Dtype \n",
      "---  ------                    --------------  ----- \n",
      " 0   Company_Name              3100 non-null   object\n",
      " 1   Website                   3099 non-null   object\n",
      " 2   Location                  3087 non-null   object\n",
      " 3   Minimum Project Size      3100 non-null   object\n",
      " 4   Average Hourly Rate       3100 non-null   object\n",
      " 5   Number of Employees       3100 non-null   object\n",
      " 6   Percent AI Service Focus  3100 non-null   object\n",
      " 7   Unnamed: 7                1 non-null      object\n",
      "dtypes: object(8)\n",
      "memory usage: 193.9+ KB\n"
     ]
    }
   ],
   "source": [
    "## Checking the data type of the attributes are the null values within them.\n",
    "df.info()"
   ]
  },
  {
   "cell_type": "code",
   "execution_count": 7,
   "id": "d9ecfe26",
   "metadata": {
    "execution": {
     "iopub.execute_input": "2022-07-08T06:17:49.300522Z",
     "iopub.status.busy": "2022-07-08T06:17:49.300145Z",
     "iopub.status.idle": "2022-07-08T06:17:49.313054Z",
     "shell.execute_reply": "2022-07-08T06:17:49.312078Z"
    },
    "papermill": {
     "duration": 0.035204,
     "end_time": "2022-07-08T06:17:49.315436",
     "exception": false,
     "start_time": "2022-07-08T06:17:49.280232",
     "status": "completed"
    },
    "tags": []
   },
   "outputs": [
    {
     "data": {
      "text/plain": [
       "Company_Name                   0\n",
       "Website                        1\n",
       "Location                      13\n",
       "Minimum Project Size           0\n",
       "Average Hourly Rate            0\n",
       "Number of Employees            0\n",
       "Percent AI Service Focus       0\n",
       "Unnamed: 7                  3099\n",
       "dtype: int64"
      ]
     },
     "execution_count": 7,
     "metadata": {},
     "output_type": "execute_result"
    }
   ],
   "source": [
    "## Checking the number of the null values.\n",
    "df.isnull().sum()\n",
    "## To check the percentage of null values.\n",
    "## data.isnull().sum()/len(data)*100"
   ]
  },
  {
   "cell_type": "code",
   "execution_count": 8,
   "id": "f369cb75",
   "metadata": {
    "execution": {
     "iopub.execute_input": "2022-07-08T06:17:49.354311Z",
     "iopub.status.busy": "2022-07-08T06:17:49.353879Z",
     "iopub.status.idle": "2022-07-08T06:17:49.361319Z",
     "shell.execute_reply": "2022-07-08T06:17:49.360006Z"
    },
    "papermill": {
     "duration": 0.030956,
     "end_time": "2022-07-08T06:17:49.364293",
     "exception": false,
     "start_time": "2022-07-08T06:17:49.333337",
     "status": "completed"
    },
    "tags": []
   },
   "outputs": [],
   "source": [
    "## From the above analysis we observe that \"Unnamed: 7\" has the highest number of null values.\n",
    "## We will hence drop the attribute \"Unnamed: 7\".\n",
    "df = df.drop(\"Unnamed: 7\",axis=1)"
   ]
  },
  {
   "cell_type": "code",
   "execution_count": 9,
   "id": "c8d2ba49",
   "metadata": {
    "execution": {
     "iopub.execute_input": "2022-07-08T06:17:49.402943Z",
     "iopub.status.busy": "2022-07-08T06:17:49.402541Z",
     "iopub.status.idle": "2022-07-08T06:17:49.417327Z",
     "shell.execute_reply": "2022-07-08T06:17:49.416126Z"
    },
    "papermill": {
     "duration": 0.037002,
     "end_time": "2022-07-08T06:17:49.419444",
     "exception": false,
     "start_time": "2022-07-08T06:17:49.382442",
     "status": "completed"
    },
    "tags": []
   },
   "outputs": [
    {
     "data": {
      "text/html": [
       "<div>\n",
       "<style scoped>\n",
       "    .dataframe tbody tr th:only-of-type {\n",
       "        vertical-align: middle;\n",
       "    }\n",
       "\n",
       "    .dataframe tbody tr th {\n",
       "        vertical-align: top;\n",
       "    }\n",
       "\n",
       "    .dataframe thead th {\n",
       "        text-align: right;\n",
       "    }\n",
       "</style>\n",
       "<table border=\"1\" class=\"dataframe\">\n",
       "  <thead>\n",
       "    <tr style=\"text-align: right;\">\n",
       "      <th></th>\n",
       "      <th>Company_Name</th>\n",
       "      <th>Website</th>\n",
       "      <th>Location</th>\n",
       "      <th>Minimum Project Size</th>\n",
       "      <th>Average Hourly Rate</th>\n",
       "      <th>Number of Employees</th>\n",
       "      <th>Percent AI Service Focus</th>\n",
       "    </tr>\n",
       "  </thead>\n",
       "  <tbody>\n",
       "    <tr>\n",
       "      <th>0</th>\n",
       "      <td>Smith.ai</td>\n",
       "      <td>https://smith.ai/</td>\n",
       "      <td>Los Altos, CA</td>\n",
       "      <td>Undisclosed</td>\n",
       "      <td>Undisclosed</td>\n",
       "      <td>250 - 999</td>\n",
       "      <td>10%</td>\n",
       "    </tr>\n",
       "    <tr>\n",
       "      <th>1</th>\n",
       "      <td>MooveIt</td>\n",
       "      <td>https://moove-it.com/</td>\n",
       "      <td>Austin, TX</td>\n",
       "      <td>$100,000+</td>\n",
       "      <td>$50 - $99 / hr</td>\n",
       "      <td>50 - 249</td>\n",
       "      <td>15%</td>\n",
       "    </tr>\n",
       "    <tr>\n",
       "      <th>2</th>\n",
       "      <td>TechSpeedInc</td>\n",
       "      <td>http://www.techspeed.com/</td>\n",
       "      <td>Portland, OR</td>\n",
       "      <td>$1,000+</td>\n",
       "      <td>&lt; $25 / hr</td>\n",
       "      <td>50 - 249</td>\n",
       "      <td>40%</td>\n",
       "    </tr>\n",
       "    <tr>\n",
       "      <th>3</th>\n",
       "      <td>WillDom</td>\n",
       "      <td>https://willdom.com/</td>\n",
       "      <td>Fort Lauderdale, FL</td>\n",
       "      <td>$10,000+</td>\n",
       "      <td>$50 - $99 / hr</td>\n",
       "      <td>250 - 999</td>\n",
       "      <td>10%</td>\n",
       "    </tr>\n",
       "    <tr>\n",
       "      <th>4</th>\n",
       "      <td>Icreon</td>\n",
       "      <td>https://www.icreon.com/en</td>\n",
       "      <td>New York, NY</td>\n",
       "      <td>$50,000+</td>\n",
       "      <td>$100 - $149 / hr</td>\n",
       "      <td>250 - 999</td>\n",
       "      <td>10%</td>\n",
       "    </tr>\n",
       "  </tbody>\n",
       "</table>\n",
       "</div>"
      ],
      "text/plain": [
       "   Company_Name                    Website             Location  \\\n",
       "0      Smith.ai          https://smith.ai/        Los Altos, CA   \n",
       "1       MooveIt      https://moove-it.com/           Austin, TX   \n",
       "2  TechSpeedInc  http://www.techspeed.com/         Portland, OR   \n",
       "3       WillDom       https://willdom.com/  Fort Lauderdale, FL   \n",
       "4        Icreon  https://www.icreon.com/en         New York, NY   \n",
       "\n",
       "  Minimum Project Size Average Hourly Rate Number of Employees  \\\n",
       "0          Undisclosed         Undisclosed           250 - 999   \n",
       "1            $100,000+      $50 - $99 / hr            50 - 249   \n",
       "2              $1,000+          < $25 / hr            50 - 249   \n",
       "3             $10,000+      $50 - $99 / hr           250 - 999   \n",
       "4             $50,000+    $100 - $149 / hr           250 - 999   \n",
       "\n",
       "  Percent AI Service Focus  \n",
       "0                      10%  \n",
       "1                      15%  \n",
       "2                      40%  \n",
       "3                      10%  \n",
       "4                      10%  "
      ]
     },
     "execution_count": 9,
     "metadata": {},
     "output_type": "execute_result"
    }
   ],
   "source": [
    "## Displaying the dataset to verify if the attribute has been removed.\n",
    "df.head()"
   ]
  },
  {
   "cell_type": "code",
   "execution_count": 10,
   "id": "8c5239d2",
   "metadata": {
    "execution": {
     "iopub.execute_input": "2022-07-08T06:17:49.457981Z",
     "iopub.status.busy": "2022-07-08T06:17:49.457578Z",
     "iopub.status.idle": "2022-07-08T06:17:49.490977Z",
     "shell.execute_reply": "2022-07-08T06:17:49.489839Z"
    },
    "papermill": {
     "duration": 0.05579,
     "end_time": "2022-07-08T06:17:49.493867",
     "exception": false,
     "start_time": "2022-07-08T06:17:49.438077",
     "status": "completed"
    },
    "tags": []
   },
   "outputs": [
    {
     "data": {
      "text/html": [
       "<div>\n",
       "<style scoped>\n",
       "    .dataframe tbody tr th:only-of-type {\n",
       "        vertical-align: middle;\n",
       "    }\n",
       "\n",
       "    .dataframe tbody tr th {\n",
       "        vertical-align: top;\n",
       "    }\n",
       "\n",
       "    .dataframe thead th {\n",
       "        text-align: right;\n",
       "    }\n",
       "</style>\n",
       "<table border=\"1\" class=\"dataframe\">\n",
       "  <thead>\n",
       "    <tr style=\"text-align: right;\">\n",
       "      <th></th>\n",
       "      <th>Company_Name</th>\n",
       "      <th>Website</th>\n",
       "      <th>Location</th>\n",
       "      <th>Minimum Project Size</th>\n",
       "      <th>Average Hourly Rate</th>\n",
       "      <th>Number of Employees</th>\n",
       "      <th>Percent AI Service Focus</th>\n",
       "    </tr>\n",
       "  </thead>\n",
       "  <tbody>\n",
       "    <tr>\n",
       "      <th>count</th>\n",
       "      <td>3100</td>\n",
       "      <td>3099</td>\n",
       "      <td>3087</td>\n",
       "      <td>3100</td>\n",
       "      <td>3100</td>\n",
       "      <td>3100</td>\n",
       "      <td>3100</td>\n",
       "    </tr>\n",
       "    <tr>\n",
       "      <th>unique</th>\n",
       "      <td>3096</td>\n",
       "      <td>3097</td>\n",
       "      <td>998</td>\n",
       "      <td>10</td>\n",
       "      <td>9</td>\n",
       "      <td>8</td>\n",
       "      <td>39</td>\n",
       "    </tr>\n",
       "    <tr>\n",
       "      <th>top</th>\n",
       "      <td>Cognitiva</td>\n",
       "      <td>https://contata.com/</td>\n",
       "      <td>London, United Kingdom</td>\n",
       "      <td>Undisclosed</td>\n",
       "      <td>Undisclosed</td>\n",
       "      <td>10 - 49</td>\n",
       "      <td>10%</td>\n",
       "    </tr>\n",
       "    <tr>\n",
       "      <th>freq</th>\n",
       "      <td>2</td>\n",
       "      <td>2</td>\n",
       "      <td>184</td>\n",
       "      <td>1158</td>\n",
       "      <td>1247</td>\n",
       "      <td>1389</td>\n",
       "      <td>879</td>\n",
       "    </tr>\n",
       "  </tbody>\n",
       "</table>\n",
       "</div>"
      ],
      "text/plain": [
       "       Company_Name               Website                Location  \\\n",
       "count          3100                  3099                    3087   \n",
       "unique         3096                  3097                     998   \n",
       "top       Cognitiva  https://contata.com/  London, United Kingdom   \n",
       "freq              2                     2                     184   \n",
       "\n",
       "       Minimum Project Size Average Hourly Rate Number of Employees  \\\n",
       "count                  3100                3100                3100   \n",
       "unique                   10                   9                   8   \n",
       "top             Undisclosed         Undisclosed             10 - 49   \n",
       "freq                   1158                1247                1389   \n",
       "\n",
       "       Percent AI Service Focus  \n",
       "count                      3100  \n",
       "unique                       39  \n",
       "top                         10%  \n",
       "freq                        879  "
      ]
     },
     "execution_count": 10,
     "metadata": {},
     "output_type": "execute_result"
    }
   ],
   "source": [
    "df.describe()"
   ]
  },
  {
   "cell_type": "code",
   "execution_count": 11,
   "id": "a64d8393",
   "metadata": {
    "execution": {
     "iopub.execute_input": "2022-07-08T06:17:49.534292Z",
     "iopub.status.busy": "2022-07-08T06:17:49.533145Z",
     "iopub.status.idle": "2022-07-08T06:17:49.538679Z",
     "shell.execute_reply": "2022-07-08T06:17:49.537803Z"
    },
    "papermill": {
     "duration": 0.028548,
     "end_time": "2022-07-08T06:17:49.541329",
     "exception": false,
     "start_time": "2022-07-08T06:17:49.512781",
     "status": "completed"
    },
    "tags": []
   },
   "outputs": [],
   "source": [
    "## From the above analysis we can see the various details of all the features/ attributes present in the dataframe."
   ]
  },
  {
   "cell_type": "code",
   "execution_count": 12,
   "id": "6eb2254a",
   "metadata": {
    "execution": {
     "iopub.execute_input": "2022-07-08T06:17:49.580136Z",
     "iopub.status.busy": "2022-07-08T06:17:49.579701Z",
     "iopub.status.idle": "2022-07-08T06:17:49.584416Z",
     "shell.execute_reply": "2022-07-08T06:17:49.583115Z"
    },
    "papermill": {
     "duration": 0.026915,
     "end_time": "2022-07-08T06:17:49.587000",
     "exception": false,
     "start_time": "2022-07-08T06:17:49.560085",
     "status": "completed"
    },
    "tags": []
   },
   "outputs": [],
   "source": [
    "## We can also find unique values seprately using \".nunqiue\".\n",
    "## data.nunique()"
   ]
  },
  {
   "cell_type": "code",
   "execution_count": 13,
   "id": "bbe8190d",
   "metadata": {
    "execution": {
     "iopub.execute_input": "2022-07-08T06:17:49.625477Z",
     "iopub.status.busy": "2022-07-08T06:17:49.625103Z",
     "iopub.status.idle": "2022-07-08T06:17:49.629157Z",
     "shell.execute_reply": "2022-07-08T06:17:49.628328Z"
    },
    "papermill": {
     "duration": 0.025576,
     "end_time": "2022-07-08T06:17:49.631132",
     "exception": false,
     "start_time": "2022-07-08T06:17:49.605556",
     "status": "completed"
    },
    "tags": []
   },
   "outputs": [],
   "source": [
    "## We can observe from the pervious analysis that there are certain features with high number of unique values."
   ]
  },
  {
   "cell_type": "code",
   "execution_count": 14,
   "id": "a79a9354",
   "metadata": {
    "execution": {
     "iopub.execute_input": "2022-07-08T06:17:49.670035Z",
     "iopub.status.busy": "2022-07-08T06:17:49.669132Z",
     "iopub.status.idle": "2022-07-08T06:17:49.680967Z",
     "shell.execute_reply": "2022-07-08T06:17:49.679365Z"
    },
    "papermill": {
     "duration": 0.033631,
     "end_time": "2022-07-08T06:17:49.683390",
     "exception": false,
     "start_time": "2022-07-08T06:17:49.649759",
     "status": "completed"
    },
    "tags": []
   },
   "outputs": [
    {
     "name": "stdout",
     "output_type": "stream",
     "text": [
      "No of Duplicates in the dataset:- 1\n"
     ]
    }
   ],
   "source": [
    "## Here we will check the duplicates in the dataset.\n",
    "print(f\"No of Duplicates in the dataset:- {df.duplicated().sum()}\")"
   ]
  },
  {
   "cell_type": "code",
   "execution_count": 15,
   "id": "736e0d07",
   "metadata": {
    "execution": {
     "iopub.execute_input": "2022-07-08T06:17:49.723203Z",
     "iopub.status.busy": "2022-07-08T06:17:49.722169Z",
     "iopub.status.idle": "2022-07-08T06:17:49.733166Z",
     "shell.execute_reply": "2022-07-08T06:17:49.731636Z"
    },
    "papermill": {
     "duration": 0.033409,
     "end_time": "2022-07-08T06:17:49.735702",
     "exception": false,
     "start_time": "2022-07-08T06:17:49.702293",
     "status": "completed"
    },
    "tags": []
   },
   "outputs": [
    {
     "name": "stdout",
     "output_type": "stream",
     "text": [
      "No of Duplicates in the dataset:- 0.03225806451612903\n"
     ]
    }
   ],
   "source": [
    "## Here we will check the % of duplicates in the dataset.\n",
    "print(f\"No of Duplicates in the dataset:- {df.duplicated().sum()/len(df)*100}\")"
   ]
  },
  {
   "cell_type": "code",
   "execution_count": 16,
   "id": "7b2d809b",
   "metadata": {
    "execution": {
     "iopub.execute_input": "2022-07-08T06:17:49.776054Z",
     "iopub.status.busy": "2022-07-08T06:17:49.775061Z",
     "iopub.status.idle": "2022-07-08T06:17:49.790852Z",
     "shell.execute_reply": "2022-07-08T06:17:49.789542Z"
    },
    "papermill": {
     "duration": 0.039008,
     "end_time": "2022-07-08T06:17:49.793546",
     "exception": false,
     "start_time": "2022-07-08T06:17:49.754538",
     "status": "completed"
    },
    "tags": []
   },
   "outputs": [
    {
     "name": "stdout",
     "output_type": "stream",
     "text": [
      "<class 'pandas.core.frame.DataFrame'>\n",
      "RangeIndex: 3100 entries, 0 to 3099\n",
      "Data columns (total 7 columns):\n",
      " #   Column                    Non-Null Count  Dtype \n",
      "---  ------                    --------------  ----- \n",
      " 0   Company_Name              3100 non-null   object\n",
      " 1   Website                   3099 non-null   object\n",
      " 2   Location                  3087 non-null   object\n",
      " 3   Minimum Project Size      3100 non-null   object\n",
      " 4   Average Hourly Rate       3100 non-null   object\n",
      " 5   Number of Employees       3100 non-null   object\n",
      " 6   Percent AI Service Focus  3100 non-null   object\n",
      "dtypes: object(7)\n",
      "memory usage: 169.7+ KB\n"
     ]
    }
   ],
   "source": [
    "df.info()"
   ]
  },
  {
   "cell_type": "code",
   "execution_count": 17,
   "id": "ed0af8b5",
   "metadata": {
    "execution": {
     "iopub.execute_input": "2022-07-08T06:17:49.833947Z",
     "iopub.status.busy": "2022-07-08T06:17:49.832890Z",
     "iopub.status.idle": "2022-07-08T06:17:49.840320Z",
     "shell.execute_reply": "2022-07-08T06:17:49.839440Z"
    },
    "papermill": {
     "duration": 0.030308,
     "end_time": "2022-07-08T06:17:49.842491",
     "exception": false,
     "start_time": "2022-07-08T06:17:49.812183",
     "status": "completed"
    },
    "tags": []
   },
   "outputs": [
    {
     "data": {
      "text/plain": [
       "10"
      ]
     },
     "execution_count": 17,
     "metadata": {},
     "output_type": "execute_result"
    }
   ],
   "source": [
    "df[\"Minimum Project Size\"].nunique()"
   ]
  },
  {
   "cell_type": "code",
   "execution_count": 18,
   "id": "6a40f638",
   "metadata": {
    "execution": {
     "iopub.execute_input": "2022-07-08T06:17:49.883822Z",
     "iopub.status.busy": "2022-07-08T06:17:49.882968Z",
     "iopub.status.idle": "2022-07-08T06:17:49.891390Z",
     "shell.execute_reply": "2022-07-08T06:17:49.890247Z"
    },
    "papermill": {
     "duration": 0.031573,
     "end_time": "2022-07-08T06:17:49.893674",
     "exception": false,
     "start_time": "2022-07-08T06:17:49.862101",
     "status": "completed"
    },
    "tags": []
   },
   "outputs": [
    {
     "data": {
      "text/plain": [
       "0     Undisclosed\n",
       "1       $100,000+\n",
       "2         $1,000+\n",
       "3        $10,000+\n",
       "4        $50,000+\n",
       "5        $50,000+\n",
       "6       $100,000+\n",
       "7        $10,000+\n",
       "8         $5,000+\n",
       "9        $25,000+\n",
       "10       $10,000+\n",
       "11       $50,000+\n",
       "12       $10,000+\n",
       "13       $50,000+\n",
       "14       $10,000+\n",
       "15      $100,000+\n",
       "16       $10,000+\n",
       "17       $25,000+\n",
       "18       $50,000+\n",
       "19       $10,000+\n",
       "20       $50,000+\n",
       "21       $10,000+\n",
       "22       $10,000+\n",
       "23       $50,000+\n",
       "24       $25,000+\n",
       "25        $5,000+\n",
       "26        $5,000+\n",
       "27        $1,000+\n",
       "28        $5,000+\n",
       "29        $5,000+\n",
       "30       $10,000+\n",
       "31        $5,000+\n",
       "32        $5,000+\n",
       "33       $10,000+\n",
       "34    Undisclosed\n",
       "35       $50,000+\n",
       "36       $10,000+\n",
       "37       $10,000+\n",
       "38       $25,000+\n",
       "39       $50,000+\n",
       "40       $10,000+\n",
       "41       $10,000+\n",
       "42       $10,000+\n",
       "43       $50,000+\n",
       "44       $10,000+\n",
       "45       $25,000+\n",
       "46        $5,000+\n",
       "47       $10,000+\n",
       "48       $25,000+\n",
       "49       $50,000+\n",
       "Name: Minimum Project Size, dtype: object"
      ]
     },
     "execution_count": 18,
     "metadata": {},
     "output_type": "execute_result"
    }
   ],
   "source": [
    "df[\"Minimum Project Size\"].head(50)"
   ]
  },
  {
   "cell_type": "code",
   "execution_count": 19,
   "id": "983c2619",
   "metadata": {
    "execution": {
     "iopub.execute_input": "2022-07-08T06:17:49.933314Z",
     "iopub.status.busy": "2022-07-08T06:17:49.932885Z",
     "iopub.status.idle": "2022-07-08T06:17:49.956543Z",
     "shell.execute_reply": "2022-07-08T06:17:49.955567Z"
    },
    "papermill": {
     "duration": 0.046325,
     "end_time": "2022-07-08T06:17:49.958965",
     "exception": false,
     "start_time": "2022-07-08T06:17:49.912640",
     "status": "completed"
    },
    "tags": []
   },
   "outputs": [],
   "source": [
    "## Analyzing the attribute \"Minimum Project Size\" and replacing the unanlalyzable data with analyzable one.\n",
    "df[\"Minimum Project Size\"]= df[\"Minimum Project Size\"].str.replace('$','')\n",
    "df[\"Minimum Project Size\"]= df[\"Minimum Project Size\"].str.replace('+','')\n",
    "df[\"Minimum Project Size\"]= df[\"Minimum Project Size\"].str.replace('Undisclosed','0')\n",
    "df[\"Minimum Project Size\"]= df[\"Minimum Project Size\"].str.replace('Yerba Buena, Argentina','0')\n",
    "df[\"Minimum Project Size\"]= df[\"Minimum Project Size\"].str.replace(',','')\n",
    "df[\"Minimum Project Size\"]= df[\"Minimum Project Size\"].str.replace(' ','')"
   ]
  },
  {
   "cell_type": "code",
   "execution_count": 20,
   "id": "7260b127",
   "metadata": {
    "execution": {
     "iopub.execute_input": "2022-07-08T06:17:49.998474Z",
     "iopub.status.busy": "2022-07-08T06:17:49.997687Z",
     "iopub.status.idle": "2022-07-08T06:17:50.010772Z",
     "shell.execute_reply": "2022-07-08T06:17:50.009853Z"
    },
    "papermill": {
     "duration": 0.035571,
     "end_time": "2022-07-08T06:17:50.013185",
     "exception": false,
     "start_time": "2022-07-08T06:17:49.977614",
     "status": "completed"
    },
    "tags": []
   },
   "outputs": [
    {
     "data": {
      "text/html": [
       "<div>\n",
       "<style scoped>\n",
       "    .dataframe tbody tr th:only-of-type {\n",
       "        vertical-align: middle;\n",
       "    }\n",
       "\n",
       "    .dataframe tbody tr th {\n",
       "        vertical-align: top;\n",
       "    }\n",
       "\n",
       "    .dataframe thead th {\n",
       "        text-align: right;\n",
       "    }\n",
       "</style>\n",
       "<table border=\"1\" class=\"dataframe\">\n",
       "  <thead>\n",
       "    <tr style=\"text-align: right;\">\n",
       "      <th></th>\n",
       "      <th>Company_Name</th>\n",
       "      <th>Website</th>\n",
       "      <th>Location</th>\n",
       "      <th>Minimum Project Size</th>\n",
       "      <th>Average Hourly Rate</th>\n",
       "      <th>Number of Employees</th>\n",
       "      <th>Percent AI Service Focus</th>\n",
       "    </tr>\n",
       "  </thead>\n",
       "  <tbody>\n",
       "    <tr>\n",
       "      <th>0</th>\n",
       "      <td>Smith.ai</td>\n",
       "      <td>https://smith.ai/</td>\n",
       "      <td>Los Altos, CA</td>\n",
       "      <td>0</td>\n",
       "      <td>Undisclosed</td>\n",
       "      <td>250 - 999</td>\n",
       "      <td>10%</td>\n",
       "    </tr>\n",
       "    <tr>\n",
       "      <th>1</th>\n",
       "      <td>MooveIt</td>\n",
       "      <td>https://moove-it.com/</td>\n",
       "      <td>Austin, TX</td>\n",
       "      <td>100000</td>\n",
       "      <td>$50 - $99 / hr</td>\n",
       "      <td>50 - 249</td>\n",
       "      <td>15%</td>\n",
       "    </tr>\n",
       "    <tr>\n",
       "      <th>2</th>\n",
       "      <td>TechSpeedInc</td>\n",
       "      <td>http://www.techspeed.com/</td>\n",
       "      <td>Portland, OR</td>\n",
       "      <td>1000</td>\n",
       "      <td>&lt; $25 / hr</td>\n",
       "      <td>50 - 249</td>\n",
       "      <td>40%</td>\n",
       "    </tr>\n",
       "    <tr>\n",
       "      <th>3</th>\n",
       "      <td>WillDom</td>\n",
       "      <td>https://willdom.com/</td>\n",
       "      <td>Fort Lauderdale, FL</td>\n",
       "      <td>10000</td>\n",
       "      <td>$50 - $99 / hr</td>\n",
       "      <td>250 - 999</td>\n",
       "      <td>10%</td>\n",
       "    </tr>\n",
       "    <tr>\n",
       "      <th>4</th>\n",
       "      <td>Icreon</td>\n",
       "      <td>https://www.icreon.com/en</td>\n",
       "      <td>New York, NY</td>\n",
       "      <td>50000</td>\n",
       "      <td>$100 - $149 / hr</td>\n",
       "      <td>250 - 999</td>\n",
       "      <td>10%</td>\n",
       "    </tr>\n",
       "  </tbody>\n",
       "</table>\n",
       "</div>"
      ],
      "text/plain": [
       "   Company_Name                    Website             Location  \\\n",
       "0      Smith.ai          https://smith.ai/        Los Altos, CA   \n",
       "1       MooveIt      https://moove-it.com/           Austin, TX   \n",
       "2  TechSpeedInc  http://www.techspeed.com/         Portland, OR   \n",
       "3       WillDom       https://willdom.com/  Fort Lauderdale, FL   \n",
       "4        Icreon  https://www.icreon.com/en         New York, NY   \n",
       "\n",
       "  Minimum Project Size Average Hourly Rate Number of Employees  \\\n",
       "0                    0         Undisclosed           250 - 999   \n",
       "1               100000      $50 - $99 / hr            50 - 249   \n",
       "2                 1000          < $25 / hr            50 - 249   \n",
       "3                10000      $50 - $99 / hr           250 - 999   \n",
       "4                50000    $100 - $149 / hr           250 - 999   \n",
       "\n",
       "  Percent AI Service Focus  \n",
       "0                      10%  \n",
       "1                      15%  \n",
       "2                      40%  \n",
       "3                      10%  \n",
       "4                      10%  "
      ]
     },
     "execution_count": 20,
     "metadata": {},
     "output_type": "execute_result"
    }
   ],
   "source": [
    "df.head()"
   ]
  },
  {
   "cell_type": "code",
   "execution_count": 21,
   "id": "3ba7fac4",
   "metadata": {
    "execution": {
     "iopub.execute_input": "2022-07-08T06:17:50.053480Z",
     "iopub.status.busy": "2022-07-08T06:17:50.052811Z",
     "iopub.status.idle": "2022-07-08T06:17:50.065651Z",
     "shell.execute_reply": "2022-07-08T06:17:50.064541Z"
    },
    "papermill": {
     "duration": 0.035862,
     "end_time": "2022-07-08T06:17:50.068464",
     "exception": false,
     "start_time": "2022-07-08T06:17:50.032602",
     "status": "completed"
    },
    "tags": []
   },
   "outputs": [],
   "source": [
    "## Converting the datatype from \"object\" to \"int\"\n",
    "df[\"Minimum Project Size\"] = pd.to_numeric(df[\"Minimum Project Size\"], errors='ignore', downcast='integer')"
   ]
  },
  {
   "cell_type": "code",
   "execution_count": 22,
   "id": "d9cabd46",
   "metadata": {
    "execution": {
     "iopub.execute_input": "2022-07-08T06:17:50.107960Z",
     "iopub.status.busy": "2022-07-08T06:17:50.107561Z",
     "iopub.status.idle": "2022-07-08T06:17:50.124300Z",
     "shell.execute_reply": "2022-07-08T06:17:50.122931Z"
    },
    "papermill": {
     "duration": 0.039197,
     "end_time": "2022-07-08T06:17:50.126689",
     "exception": false,
     "start_time": "2022-07-08T06:17:50.087492",
     "status": "completed"
    },
    "tags": []
   },
   "outputs": [
    {
     "name": "stdout",
     "output_type": "stream",
     "text": [
      "<class 'pandas.core.frame.DataFrame'>\n",
      "RangeIndex: 3100 entries, 0 to 3099\n",
      "Data columns (total 7 columns):\n",
      " #   Column                    Non-Null Count  Dtype \n",
      "---  ------                    --------------  ----- \n",
      " 0   Company_Name              3100 non-null   object\n",
      " 1   Website                   3099 non-null   object\n",
      " 2   Location                  3087 non-null   object\n",
      " 3   Minimum Project Size      3100 non-null   int32 \n",
      " 4   Average Hourly Rate       3100 non-null   object\n",
      " 5   Number of Employees       3100 non-null   object\n",
      " 6   Percent AI Service Focus  3100 non-null   object\n",
      "dtypes: int32(1), object(6)\n",
      "memory usage: 157.5+ KB\n"
     ]
    }
   ],
   "source": [
    "df.info()"
   ]
  },
  {
   "cell_type": "code",
   "execution_count": 23,
   "id": "c104c632",
   "metadata": {
    "execution": {
     "iopub.execute_input": "2022-07-08T06:17:50.166686Z",
     "iopub.status.busy": "2022-07-08T06:17:50.165741Z",
     "iopub.status.idle": "2022-07-08T06:17:50.174371Z",
     "shell.execute_reply": "2022-07-08T06:17:50.172989Z"
    },
    "papermill": {
     "duration": 0.031137,
     "end_time": "2022-07-08T06:17:50.176738",
     "exception": false,
     "start_time": "2022-07-08T06:17:50.145601",
     "status": "completed"
    },
    "tags": []
   },
   "outputs": [
    {
     "data": {
      "text/plain": [
       "9"
      ]
     },
     "execution_count": 23,
     "metadata": {},
     "output_type": "execute_result"
    }
   ],
   "source": [
    "df[\"Average Hourly Rate\"].nunique()"
   ]
  },
  {
   "cell_type": "code",
   "execution_count": 24,
   "id": "2ade94cb",
   "metadata": {
    "execution": {
     "iopub.execute_input": "2022-07-08T06:17:50.217170Z",
     "iopub.status.busy": "2022-07-08T06:17:50.216768Z",
     "iopub.status.idle": "2022-07-08T06:17:50.225652Z",
     "shell.execute_reply": "2022-07-08T06:17:50.224454Z"
    },
    "papermill": {
     "duration": 0.031683,
     "end_time": "2022-07-08T06:17:50.227953",
     "exception": false,
     "start_time": "2022-07-08T06:17:50.196270",
     "status": "completed"
    },
    "tags": []
   },
   "outputs": [
    {
     "data": {
      "text/plain": [
       "0          Undisclosed\n",
       "1       $50 - $99 / hr\n",
       "2           < $25 / hr\n",
       "3       $50 - $99 / hr\n",
       "4     $100 - $149 / hr\n",
       "5       $50 - $99 / hr\n",
       "6       $50 - $99 / hr\n",
       "7       $25 - $49 / hr\n",
       "8       $25 - $49 / hr\n",
       "9       $50 - $99 / hr\n",
       "10      $25 - $49 / hr\n",
       "11      $50 - $99 / hr\n",
       "12          < $25 / hr\n",
       "13         Undisclosed\n",
       "14      $25 - $49 / hr\n",
       "15    $200 - $300 / hr\n",
       "16      $50 - $99 / hr\n",
       "17    $150 - $199 / hr\n",
       "18    $100 - $149 / hr\n",
       "19          < $25 / hr\n",
       "20      $50 - $99 / hr\n",
       "21      $50 - $99 / hr\n",
       "22    $100 - $149 / hr\n",
       "23      $50 - $99 / hr\n",
       "24      $25 - $49 / hr\n",
       "25      $25 - $49 / hr\n",
       "26      $25 - $49 / hr\n",
       "27          < $25 / hr\n",
       "28      $25 - $49 / hr\n",
       "29      $25 - $49 / hr\n",
       "30    $200 - $300 / hr\n",
       "31      $50 - $99 / hr\n",
       "32      $25 - $49 / hr\n",
       "33      $25 - $49 / hr\n",
       "34         Undisclosed\n",
       "35      $25 - $49 / hr\n",
       "36      $50 - $99 / hr\n",
       "37      $50 - $99 / hr\n",
       "38    $150 - $199 / hr\n",
       "39      $50 - $99 / hr\n",
       "40    $100 - $149 / hr\n",
       "41      $25 - $49 / hr\n",
       "42      $25 - $49 / hr\n",
       "43    $150 - $199 / hr\n",
       "44      $50 - $99 / hr\n",
       "45    $100 - $149 / hr\n",
       "46      $50 - $99 / hr\n",
       "47    $100 - $149 / hr\n",
       "48         Undisclosed\n",
       "49    $100 - $149 / hr\n",
       "Name: Average Hourly Rate, dtype: object"
      ]
     },
     "execution_count": 24,
     "metadata": {},
     "output_type": "execute_result"
    }
   ],
   "source": [
    "df[\"Average Hourly Rate\"].head(50)"
   ]
  },
  {
   "cell_type": "code",
   "execution_count": 25,
   "id": "3d3656a7",
   "metadata": {
    "execution": {
     "iopub.execute_input": "2022-07-08T06:17:50.268390Z",
     "iopub.status.busy": "2022-07-08T06:17:50.267716Z",
     "iopub.status.idle": "2022-07-08T06:17:50.299950Z",
     "shell.execute_reply": "2022-07-08T06:17:50.299065Z"
    },
    "papermill": {
     "duration": 0.055236,
     "end_time": "2022-07-08T06:17:50.302484",
     "exception": false,
     "start_time": "2022-07-08T06:17:50.247248",
     "status": "completed"
    },
    "tags": []
   },
   "outputs": [],
   "source": [
    "## Analyzing the attribute \"Average Hourly Rate\" and replacing the unanlalyzable data with analyzable one.\n",
    "df[\"Average Hourly Rate\"]=df[\"Average Hourly Rate\"].str.replace('$','')\n",
    "df[\"Average Hourly Rate\"]=df[\"Average Hourly Rate\"].str.replace('Undisclosed','0')\n",
    "df[\"Average Hourly Rate\"]=df[\"Average Hourly Rate\"].str.replace('/','')\n",
    "df[\"Average Hourly Rate\"]=df[\"Average Hourly Rate\"].str.replace('hr','')\n",
    "df[\"Average Hourly Rate\"]=df[\"Average Hourly Rate\"].str.replace('<','')\n",
    "df[\"Average Hourly Rate\"]=df[\"Average Hourly Rate\"].str.replace(',','')\n",
    "df[\"Average Hourly Rate\"]=df[\"Average Hourly Rate\"].str.replace('+','')\n",
    "df[\"Average Hourly Rate\"]=df[\"Average Hourly Rate\"].str.replace(' ','')"
   ]
  },
  {
   "cell_type": "code",
   "execution_count": 26,
   "id": "d8a5440e",
   "metadata": {
    "execution": {
     "iopub.execute_input": "2022-07-08T06:17:50.345015Z",
     "iopub.status.busy": "2022-07-08T06:17:50.343715Z",
     "iopub.status.idle": "2022-07-08T06:17:50.358671Z",
     "shell.execute_reply": "2022-07-08T06:17:50.357316Z"
    },
    "papermill": {
     "duration": 0.038551,
     "end_time": "2022-07-08T06:17:50.361246",
     "exception": false,
     "start_time": "2022-07-08T06:17:50.322695",
     "status": "completed"
    },
    "tags": []
   },
   "outputs": [
    {
     "data": {
      "text/html": [
       "<div>\n",
       "<style scoped>\n",
       "    .dataframe tbody tr th:only-of-type {\n",
       "        vertical-align: middle;\n",
       "    }\n",
       "\n",
       "    .dataframe tbody tr th {\n",
       "        vertical-align: top;\n",
       "    }\n",
       "\n",
       "    .dataframe thead th {\n",
       "        text-align: right;\n",
       "    }\n",
       "</style>\n",
       "<table border=\"1\" class=\"dataframe\">\n",
       "  <thead>\n",
       "    <tr style=\"text-align: right;\">\n",
       "      <th></th>\n",
       "      <th>Company_Name</th>\n",
       "      <th>Website</th>\n",
       "      <th>Location</th>\n",
       "      <th>Minimum Project Size</th>\n",
       "      <th>Average Hourly Rate</th>\n",
       "      <th>Number of Employees</th>\n",
       "      <th>Percent AI Service Focus</th>\n",
       "    </tr>\n",
       "  </thead>\n",
       "  <tbody>\n",
       "    <tr>\n",
       "      <th>0</th>\n",
       "      <td>Smith.ai</td>\n",
       "      <td>https://smith.ai/</td>\n",
       "      <td>Los Altos, CA</td>\n",
       "      <td>0</td>\n",
       "      <td>0</td>\n",
       "      <td>250 - 999</td>\n",
       "      <td>10%</td>\n",
       "    </tr>\n",
       "    <tr>\n",
       "      <th>1</th>\n",
       "      <td>MooveIt</td>\n",
       "      <td>https://moove-it.com/</td>\n",
       "      <td>Austin, TX</td>\n",
       "      <td>100000</td>\n",
       "      <td>50-99</td>\n",
       "      <td>50 - 249</td>\n",
       "      <td>15%</td>\n",
       "    </tr>\n",
       "    <tr>\n",
       "      <th>2</th>\n",
       "      <td>TechSpeedInc</td>\n",
       "      <td>http://www.techspeed.com/</td>\n",
       "      <td>Portland, OR</td>\n",
       "      <td>1000</td>\n",
       "      <td>25</td>\n",
       "      <td>50 - 249</td>\n",
       "      <td>40%</td>\n",
       "    </tr>\n",
       "    <tr>\n",
       "      <th>3</th>\n",
       "      <td>WillDom</td>\n",
       "      <td>https://willdom.com/</td>\n",
       "      <td>Fort Lauderdale, FL</td>\n",
       "      <td>10000</td>\n",
       "      <td>50-99</td>\n",
       "      <td>250 - 999</td>\n",
       "      <td>10%</td>\n",
       "    </tr>\n",
       "    <tr>\n",
       "      <th>4</th>\n",
       "      <td>Icreon</td>\n",
       "      <td>https://www.icreon.com/en</td>\n",
       "      <td>New York, NY</td>\n",
       "      <td>50000</td>\n",
       "      <td>100-149</td>\n",
       "      <td>250 - 999</td>\n",
       "      <td>10%</td>\n",
       "    </tr>\n",
       "  </tbody>\n",
       "</table>\n",
       "</div>"
      ],
      "text/plain": [
       "   Company_Name                    Website             Location  \\\n",
       "0      Smith.ai          https://smith.ai/        Los Altos, CA   \n",
       "1       MooveIt      https://moove-it.com/           Austin, TX   \n",
       "2  TechSpeedInc  http://www.techspeed.com/         Portland, OR   \n",
       "3       WillDom       https://willdom.com/  Fort Lauderdale, FL   \n",
       "4        Icreon  https://www.icreon.com/en         New York, NY   \n",
       "\n",
       "   Minimum Project Size Average Hourly Rate Number of Employees  \\\n",
       "0                     0                   0           250 - 999   \n",
       "1                100000               50-99            50 - 249   \n",
       "2                  1000                  25            50 - 249   \n",
       "3                 10000               50-99           250 - 999   \n",
       "4                 50000             100-149           250 - 999   \n",
       "\n",
       "  Percent AI Service Focus  \n",
       "0                      10%  \n",
       "1                      15%  \n",
       "2                      40%  \n",
       "3                      10%  \n",
       "4                      10%  "
      ]
     },
     "execution_count": 26,
     "metadata": {},
     "output_type": "execute_result"
    }
   ],
   "source": [
    "## Checking the dataframe to confirm if the above changes have been made in the dataframe.\n",
    "df.head()"
   ]
  },
  {
   "cell_type": "code",
   "execution_count": 27,
   "id": "c98db73f",
   "metadata": {
    "execution": {
     "iopub.execute_input": "2022-07-08T06:17:50.402486Z",
     "iopub.status.busy": "2022-07-08T06:17:50.402105Z",
     "iopub.status.idle": "2022-07-08T06:17:50.410798Z",
     "shell.execute_reply": "2022-07-08T06:17:50.409702Z"
    },
    "papermill": {
     "duration": 0.032064,
     "end_time": "2022-07-08T06:17:50.413061",
     "exception": false,
     "start_time": "2022-07-08T06:17:50.380997",
     "status": "completed"
    },
    "tags": []
   },
   "outputs": [
    {
     "data": {
      "text/plain": [
       "0           0\n",
       "1       50-99\n",
       "2          25\n",
       "3       50-99\n",
       "4     100-149\n",
       "5       50-99\n",
       "6       50-99\n",
       "7       25-49\n",
       "8       25-49\n",
       "9       50-99\n",
       "10      25-49\n",
       "11      50-99\n",
       "12         25\n",
       "13          0\n",
       "14      25-49\n",
       "15    200-300\n",
       "16      50-99\n",
       "17    150-199\n",
       "18    100-149\n",
       "19         25\n",
       "20      50-99\n",
       "21      50-99\n",
       "22    100-149\n",
       "23      50-99\n",
       "24      25-49\n",
       "25      25-49\n",
       "26      25-49\n",
       "27         25\n",
       "28      25-49\n",
       "29      25-49\n",
       "30    200-300\n",
       "31      50-99\n",
       "32      25-49\n",
       "33      25-49\n",
       "34          0\n",
       "35      25-49\n",
       "36      50-99\n",
       "37      50-99\n",
       "38    150-199\n",
       "39      50-99\n",
       "40    100-149\n",
       "41      25-49\n",
       "42      25-49\n",
       "43    150-199\n",
       "44      50-99\n",
       "45    100-149\n",
       "46      50-99\n",
       "47    100-149\n",
       "48          0\n",
       "49    100-149\n",
       "Name: Average Hourly Rate, dtype: object"
      ]
     },
     "execution_count": 27,
     "metadata": {},
     "output_type": "execute_result"
    }
   ],
   "source": [
    "df[\"Average Hourly Rate\"].head(50)"
   ]
  },
  {
   "cell_type": "code",
   "execution_count": 28,
   "id": "424818bd",
   "metadata": {
    "execution": {
     "iopub.execute_input": "2022-07-08T06:17:50.455473Z",
     "iopub.status.busy": "2022-07-08T06:17:50.454505Z",
     "iopub.status.idle": "2022-07-08T06:17:50.469886Z",
     "shell.execute_reply": "2022-07-08T06:17:50.468660Z"
    },
    "papermill": {
     "duration": 0.039041,
     "end_time": "2022-07-08T06:17:50.472509",
     "exception": false,
     "start_time": "2022-07-08T06:17:50.433468",
     "status": "completed"
    },
    "tags": []
   },
   "outputs": [
    {
     "name": "stdout",
     "output_type": "stream",
     "text": [
      "<class 'pandas.core.frame.DataFrame'>\n",
      "RangeIndex: 3100 entries, 0 to 3099\n",
      "Data columns (total 7 columns):\n",
      " #   Column                    Non-Null Count  Dtype \n",
      "---  ------                    --------------  ----- \n",
      " 0   Company_Name              3100 non-null   object\n",
      " 1   Website                   3099 non-null   object\n",
      " 2   Location                  3087 non-null   object\n",
      " 3   Minimum Project Size      3100 non-null   int32 \n",
      " 4   Average Hourly Rate       3100 non-null   object\n",
      " 5   Number of Employees       3100 non-null   object\n",
      " 6   Percent AI Service Focus  3100 non-null   object\n",
      "dtypes: int32(1), object(6)\n",
      "memory usage: 157.5+ KB\n"
     ]
    }
   ],
   "source": [
    "df.info()"
   ]
  },
  {
   "cell_type": "code",
   "execution_count": 29,
   "id": "ad712688",
   "metadata": {
    "execution": {
     "iopub.execute_input": "2022-07-08T06:17:50.515214Z",
     "iopub.status.busy": "2022-07-08T06:17:50.514007Z",
     "iopub.status.idle": "2022-07-08T06:17:50.522104Z",
     "shell.execute_reply": "2022-07-08T06:17:50.520906Z"
    },
    "papermill": {
     "duration": 0.03151,
     "end_time": "2022-07-08T06:17:50.524450",
     "exception": false,
     "start_time": "2022-07-08T06:17:50.492940",
     "status": "completed"
    },
    "tags": []
   },
   "outputs": [
    {
     "data": {
      "text/plain": [
       "8"
      ]
     },
     "execution_count": 29,
     "metadata": {},
     "output_type": "execute_result"
    }
   ],
   "source": [
    "df[\"Number of Employees\"].nunique()"
   ]
  },
  {
   "cell_type": "code",
   "execution_count": 30,
   "id": "72b7ed66",
   "metadata": {
    "execution": {
     "iopub.execute_input": "2022-07-08T06:17:50.567942Z",
     "iopub.status.busy": "2022-07-08T06:17:50.567201Z",
     "iopub.status.idle": "2022-07-08T06:17:50.575522Z",
     "shell.execute_reply": "2022-07-08T06:17:50.574399Z"
    },
    "papermill": {
     "duration": 0.03263,
     "end_time": "2022-07-08T06:17:50.577974",
     "exception": false,
     "start_time": "2022-07-08T06:17:50.545344",
     "status": "completed"
    },
    "tags": []
   },
   "outputs": [
    {
     "data": {
      "text/plain": [
       "0         250 - 999\n",
       "1          50 - 249\n",
       "2          50 - 249\n",
       "3         250 - 999\n",
       "4         250 - 999\n",
       "5     1,000 - 9,999\n",
       "6           10 - 49\n",
       "7           10 - 49\n",
       "8          50 - 249\n",
       "9           10 - 49\n",
       "10         50 - 249\n",
       "11        250 - 999\n",
       "12         50 - 249\n",
       "13         50 - 249\n",
       "14         50 - 249\n",
       "15         50 - 249\n",
       "16         50 - 249\n",
       "17          10 - 49\n",
       "18         50 - 249\n",
       "19         50 - 249\n",
       "20        250 - 999\n",
       "21          10 - 49\n",
       "22          10 - 49\n",
       "23         50 - 249\n",
       "24          10 - 49\n",
       "25         50 - 249\n",
       "26         50 - 249\n",
       "27          10 - 49\n",
       "28         50 - 249\n",
       "29          10 - 49\n",
       "30         50 - 249\n",
       "31          10 - 49\n",
       "32        250 - 999\n",
       "33          10 - 49\n",
       "34    1,000 - 9,999\n",
       "35         50 - 249\n",
       "36          10 - 49\n",
       "37            2 - 9\n",
       "38          10 - 49\n",
       "39          10 - 49\n",
       "40          10 - 49\n",
       "41          10 - 49\n",
       "42         50 - 249\n",
       "43          10 - 49\n",
       "44         50 - 249\n",
       "45            2 - 9\n",
       "46          10 - 49\n",
       "47         50 - 249\n",
       "48         50 - 249\n",
       "49          10 - 49\n",
       "Name: Number of Employees, dtype: object"
      ]
     },
     "execution_count": 30,
     "metadata": {},
     "output_type": "execute_result"
    }
   ],
   "source": [
    "df[\"Number of Employees\"].head(50)"
   ]
  },
  {
   "cell_type": "code",
   "execution_count": 31,
   "id": "49c46b34",
   "metadata": {
    "execution": {
     "iopub.execute_input": "2022-07-08T06:17:50.621224Z",
     "iopub.status.busy": "2022-07-08T06:17:50.620513Z",
     "iopub.status.idle": "2022-07-08T06:17:50.648279Z",
     "shell.execute_reply": "2022-07-08T06:17:50.647308Z"
    },
    "papermill": {
     "duration": 0.052011,
     "end_time": "2022-07-08T06:17:50.650722",
     "exception": false,
     "start_time": "2022-07-08T06:17:50.598711",
     "status": "completed"
    },
    "tags": []
   },
   "outputs": [],
   "source": [
    "## Analyzing the attribute \"Number of Employees\" and replacing the unanlalyzable data with analyzable one.\n",
    "df[\"Number of Employees\"]=df[\"Number of Employees\"].str.replace('$','')\n",
    "df[\"Number of Employees\"]=df[\"Number of Employees\"].str.replace(' ','')\n",
    "df[\"Number of Employees\"]=df[\"Number of Employees\"].str.replace('+','')\n",
    "df[\"Number of Employees\"]=df[\"Number of Employees\"].str.replace(',','')\n",
    "df[\"Number of Employees\"]=df[\"Number of Employees\"].str.replace('hr','')\n",
    "df[\"Number of Employees\"]=df[\"Number of Employees\"].str.replace('/','')\n",
    "df[\"Number of Employees\"]=df[\"Number of Employees\"].str.replace('Freelancer','0')"
   ]
  },
  {
   "cell_type": "code",
   "execution_count": 32,
   "id": "9fcbff20",
   "metadata": {
    "execution": {
     "iopub.execute_input": "2022-07-08T06:17:50.693376Z",
     "iopub.status.busy": "2022-07-08T06:17:50.692650Z",
     "iopub.status.idle": "2022-07-08T06:17:50.705209Z",
     "shell.execute_reply": "2022-07-08T06:17:50.704344Z"
    },
    "papermill": {
     "duration": 0.036597,
     "end_time": "2022-07-08T06:17:50.707379",
     "exception": false,
     "start_time": "2022-07-08T06:17:50.670782",
     "status": "completed"
    },
    "tags": []
   },
   "outputs": [
    {
     "data": {
      "text/html": [
       "<div>\n",
       "<style scoped>\n",
       "    .dataframe tbody tr th:only-of-type {\n",
       "        vertical-align: middle;\n",
       "    }\n",
       "\n",
       "    .dataframe tbody tr th {\n",
       "        vertical-align: top;\n",
       "    }\n",
       "\n",
       "    .dataframe thead th {\n",
       "        text-align: right;\n",
       "    }\n",
       "</style>\n",
       "<table border=\"1\" class=\"dataframe\">\n",
       "  <thead>\n",
       "    <tr style=\"text-align: right;\">\n",
       "      <th></th>\n",
       "      <th>Company_Name</th>\n",
       "      <th>Website</th>\n",
       "      <th>Location</th>\n",
       "      <th>Minimum Project Size</th>\n",
       "      <th>Average Hourly Rate</th>\n",
       "      <th>Number of Employees</th>\n",
       "      <th>Percent AI Service Focus</th>\n",
       "    </tr>\n",
       "  </thead>\n",
       "  <tbody>\n",
       "    <tr>\n",
       "      <th>0</th>\n",
       "      <td>Smith.ai</td>\n",
       "      <td>https://smith.ai/</td>\n",
       "      <td>Los Altos, CA</td>\n",
       "      <td>0</td>\n",
       "      <td>0</td>\n",
       "      <td>250-999</td>\n",
       "      <td>10%</td>\n",
       "    </tr>\n",
       "    <tr>\n",
       "      <th>1</th>\n",
       "      <td>MooveIt</td>\n",
       "      <td>https://moove-it.com/</td>\n",
       "      <td>Austin, TX</td>\n",
       "      <td>100000</td>\n",
       "      <td>50-99</td>\n",
       "      <td>50-249</td>\n",
       "      <td>15%</td>\n",
       "    </tr>\n",
       "    <tr>\n",
       "      <th>2</th>\n",
       "      <td>TechSpeedInc</td>\n",
       "      <td>http://www.techspeed.com/</td>\n",
       "      <td>Portland, OR</td>\n",
       "      <td>1000</td>\n",
       "      <td>25</td>\n",
       "      <td>50-249</td>\n",
       "      <td>40%</td>\n",
       "    </tr>\n",
       "    <tr>\n",
       "      <th>3</th>\n",
       "      <td>WillDom</td>\n",
       "      <td>https://willdom.com/</td>\n",
       "      <td>Fort Lauderdale, FL</td>\n",
       "      <td>10000</td>\n",
       "      <td>50-99</td>\n",
       "      <td>250-999</td>\n",
       "      <td>10%</td>\n",
       "    </tr>\n",
       "    <tr>\n",
       "      <th>4</th>\n",
       "      <td>Icreon</td>\n",
       "      <td>https://www.icreon.com/en</td>\n",
       "      <td>New York, NY</td>\n",
       "      <td>50000</td>\n",
       "      <td>100-149</td>\n",
       "      <td>250-999</td>\n",
       "      <td>10%</td>\n",
       "    </tr>\n",
       "  </tbody>\n",
       "</table>\n",
       "</div>"
      ],
      "text/plain": [
       "   Company_Name                    Website             Location  \\\n",
       "0      Smith.ai          https://smith.ai/        Los Altos, CA   \n",
       "1       MooveIt      https://moove-it.com/           Austin, TX   \n",
       "2  TechSpeedInc  http://www.techspeed.com/         Portland, OR   \n",
       "3       WillDom       https://willdom.com/  Fort Lauderdale, FL   \n",
       "4        Icreon  https://www.icreon.com/en         New York, NY   \n",
       "\n",
       "   Minimum Project Size Average Hourly Rate Number of Employees  \\\n",
       "0                     0                   0             250-999   \n",
       "1                100000               50-99              50-249   \n",
       "2                  1000                  25              50-249   \n",
       "3                 10000               50-99             250-999   \n",
       "4                 50000             100-149             250-999   \n",
       "\n",
       "  Percent AI Service Focus  \n",
       "0                      10%  \n",
       "1                      15%  \n",
       "2                      40%  \n",
       "3                      10%  \n",
       "4                      10%  "
      ]
     },
     "execution_count": 32,
     "metadata": {},
     "output_type": "execute_result"
    }
   ],
   "source": [
    "df.head()"
   ]
  },
  {
   "cell_type": "code",
   "execution_count": 33,
   "id": "41a1ba90",
   "metadata": {
    "execution": {
     "iopub.execute_input": "2022-07-08T06:17:50.750516Z",
     "iopub.status.busy": "2022-07-08T06:17:50.749810Z",
     "iopub.status.idle": "2022-07-08T06:17:50.758324Z",
     "shell.execute_reply": "2022-07-08T06:17:50.757264Z"
    },
    "papermill": {
     "duration": 0.03264,
     "end_time": "2022-07-08T06:17:50.760760",
     "exception": false,
     "start_time": "2022-07-08T06:17:50.728120",
     "status": "completed"
    },
    "tags": []
   },
   "outputs": [
    {
     "data": {
      "text/plain": [
       "10-49        1389\n",
       "50-249        774\n",
       "2-9           644\n",
       "250-999       201\n",
       "1000-9999      57\n",
       "0              23\n",
       "10000          11\n",
       "50-99           1\n",
       "Name: Number of Employees, dtype: int64"
      ]
     },
     "execution_count": 33,
     "metadata": {},
     "output_type": "execute_result"
    }
   ],
   "source": [
    "df[\"Number of Employees\"].value_counts()"
   ]
  },
  {
   "cell_type": "code",
   "execution_count": 34,
   "id": "e269df4f",
   "metadata": {
    "execution": {
     "iopub.execute_input": "2022-07-08T06:17:50.804584Z",
     "iopub.status.busy": "2022-07-08T06:17:50.803735Z",
     "iopub.status.idle": "2022-07-08T06:17:50.810446Z",
     "shell.execute_reply": "2022-07-08T06:17:50.809541Z"
    },
    "papermill": {
     "duration": 0.031226,
     "end_time": "2022-07-08T06:17:50.812573",
     "exception": false,
     "start_time": "2022-07-08T06:17:50.781347",
     "status": "completed"
    },
    "tags": []
   },
   "outputs": [
    {
     "data": {
      "text/plain": [
       "39"
      ]
     },
     "execution_count": 34,
     "metadata": {},
     "output_type": "execute_result"
    }
   ],
   "source": [
    "df[\"Percent AI Service Focus\"].nunique()"
   ]
  },
  {
   "cell_type": "code",
   "execution_count": 35,
   "id": "a94abd0d",
   "metadata": {
    "execution": {
     "iopub.execute_input": "2022-07-08T06:17:50.856879Z",
     "iopub.status.busy": "2022-07-08T06:17:50.856179Z",
     "iopub.status.idle": "2022-07-08T06:17:50.864195Z",
     "shell.execute_reply": "2022-07-08T06:17:50.863258Z"
    },
    "papermill": {
     "duration": 0.033292,
     "end_time": "2022-07-08T06:17:50.866528",
     "exception": false,
     "start_time": "2022-07-08T06:17:50.833236",
     "status": "completed"
    },
    "tags": []
   },
   "outputs": [
    {
     "data": {
      "text/plain": [
       "0      10%\n",
       "1      15%\n",
       "2      40%\n",
       "3      10%\n",
       "4      10%\n",
       "5      10%\n",
       "6      20%\n",
       "7     100%\n",
       "8      20%\n",
       "9      10%\n",
       "10     10%\n",
       "11     10%\n",
       "12     10%\n",
       "13     10%\n",
       "14     10%\n",
       "15     20%\n",
       "16     33%\n",
       "17     10%\n",
       "18     15%\n",
       "19     11%\n",
       "20     20%\n",
       "21     20%\n",
       "22     15%\n",
       "23     10%\n",
       "24     10%\n",
       "25     30%\n",
       "26     10%\n",
       "27     10%\n",
       "28     20%\n",
       "29     10%\n",
       "30     20%\n",
       "31     10%\n",
       "32     10%\n",
       "33     10%\n",
       "34     50%\n",
       "35     10%\n",
       "36     20%\n",
       "37     10%\n",
       "38     20%\n",
       "39     10%\n",
       "40     10%\n",
       "41     20%\n",
       "42     10%\n",
       "43     15%\n",
       "44     10%\n",
       "45     10%\n",
       "46     10%\n",
       "47     10%\n",
       "48     30%\n",
       "49     10%\n",
       "Name: Percent AI Service Focus, dtype: object"
      ]
     },
     "execution_count": 35,
     "metadata": {},
     "output_type": "execute_result"
    }
   ],
   "source": [
    "df[\"Percent AI Service Focus\"].head(50)"
   ]
  },
  {
   "cell_type": "code",
   "execution_count": 36,
   "id": "f3b5df22",
   "metadata": {
    "execution": {
     "iopub.execute_input": "2022-07-08T06:17:50.913275Z",
     "iopub.status.busy": "2022-07-08T06:17:50.911968Z",
     "iopub.status.idle": "2022-07-08T06:17:50.921463Z",
     "shell.execute_reply": "2022-07-08T06:17:50.920495Z"
    },
    "papermill": {
     "duration": 0.034501,
     "end_time": "2022-07-08T06:17:50.923806",
     "exception": false,
     "start_time": "2022-07-08T06:17:50.889305",
     "status": "completed"
    },
    "tags": []
   },
   "outputs": [
    {
     "data": {
      "text/plain": [
       "10%         879\n",
       "20%         511\n",
       "100%        353\n",
       "50%         270\n",
       "25%         249\n",
       "30%         220\n",
       "15%         187\n",
       "40%         123\n",
       "60%          76\n",
       "70%          59\n",
       "80%          48\n",
       "35%          33\n",
       "75%          16\n",
       "90%          12\n",
       "45%          10\n",
       "33%           6\n",
       "55%           5\n",
       "12%           5\n",
       "65%           5\n",
       "13%           4\n",
       "23%           4\n",
       "16%           3\n",
       "11%           3\n",
       "34%           2\n",
       "22%           2\n",
       "17%           2\n",
       "59%           1\n",
       "49%           1\n",
       "51%           1\n",
       "38%           1\n",
       "85%           1\n",
       "56%           1\n",
       "31%           1\n",
       "19%           1\n",
       "24%           1\n",
       "37%           1\n",
       "50 - 249      1\n",
       "36%           1\n",
       "18%           1\n",
       "Name: Percent AI Service Focus, dtype: int64"
      ]
     },
     "execution_count": 36,
     "metadata": {},
     "output_type": "execute_result"
    }
   ],
   "source": [
    "## Checking the frequency of each and every % of AI service in the dataset \"df\".\n",
    "df[\"Percent AI Service Focus\"].value_counts()"
   ]
  },
  {
   "cell_type": "code",
   "execution_count": 37,
   "id": "7e0c1176",
   "metadata": {
    "execution": {
     "iopub.execute_input": "2022-07-08T06:17:50.969398Z",
     "iopub.status.busy": "2022-07-08T06:17:50.968738Z",
     "iopub.status.idle": "2022-07-08T06:17:50.982149Z",
     "shell.execute_reply": "2022-07-08T06:17:50.981255Z"
    },
    "papermill": {
     "duration": 0.039439,
     "end_time": "2022-07-08T06:17:50.984847",
     "exception": false,
     "start_time": "2022-07-08T06:17:50.945408",
     "status": "completed"
    },
    "tags": []
   },
   "outputs": [
    {
     "name": "stdout",
     "output_type": "stream",
     "text": [
      "<class 'pandas.core.frame.DataFrame'>\n",
      "RangeIndex: 3100 entries, 0 to 3099\n",
      "Data columns (total 7 columns):\n",
      " #   Column                    Non-Null Count  Dtype \n",
      "---  ------                    --------------  ----- \n",
      " 0   Company_Name              3100 non-null   object\n",
      " 1   Website                   3099 non-null   object\n",
      " 2   Location                  3087 non-null   object\n",
      " 3   Minimum Project Size      3100 non-null   int32 \n",
      " 4   Average Hourly Rate       3100 non-null   object\n",
      " 5   Number of Employees       3100 non-null   object\n",
      " 6   Percent AI Service Focus  3100 non-null   object\n",
      "dtypes: int32(1), object(6)\n",
      "memory usage: 157.5+ KB\n"
     ]
    }
   ],
   "source": [
    "df.info()"
   ]
  },
  {
   "cell_type": "code",
   "execution_count": 38,
   "id": "441edb6e",
   "metadata": {
    "execution": {
     "iopub.execute_input": "2022-07-08T06:17:51.028164Z",
     "iopub.status.busy": "2022-07-08T06:17:51.027765Z",
     "iopub.status.idle": "2022-07-08T06:17:51.041708Z",
     "shell.execute_reply": "2022-07-08T06:17:51.040270Z"
    },
    "papermill": {
     "duration": 0.038646,
     "end_time": "2022-07-08T06:17:51.044501",
     "exception": false,
     "start_time": "2022-07-08T06:17:51.005855",
     "status": "completed"
    },
    "tags": []
   },
   "outputs": [],
   "source": [
    "df[\"Percent AI Service Focus\"]= df[\"Percent AI Service Focus\"].str.replace('%','')\n",
    "df[\"Percent AI Service Focus\"]= df[\"Percent AI Service Focus\"].str.replace('50 - 249','50')\n"
   ]
  },
  {
   "cell_type": "code",
   "execution_count": 39,
   "id": "5ec8e89f",
   "metadata": {
    "execution": {
     "iopub.execute_input": "2022-07-08T06:17:51.088676Z",
     "iopub.status.busy": "2022-07-08T06:17:51.088299Z",
     "iopub.status.idle": "2022-07-08T06:17:51.103477Z",
     "shell.execute_reply": "2022-07-08T06:17:51.102116Z"
    },
    "papermill": {
     "duration": 0.040027,
     "end_time": "2022-07-08T06:17:51.105888",
     "exception": false,
     "start_time": "2022-07-08T06:17:51.065861",
     "status": "completed"
    },
    "tags": []
   },
   "outputs": [
    {
     "data": {
      "text/html": [
       "<div>\n",
       "<style scoped>\n",
       "    .dataframe tbody tr th:only-of-type {\n",
       "        vertical-align: middle;\n",
       "    }\n",
       "\n",
       "    .dataframe tbody tr th {\n",
       "        vertical-align: top;\n",
       "    }\n",
       "\n",
       "    .dataframe thead th {\n",
       "        text-align: right;\n",
       "    }\n",
       "</style>\n",
       "<table border=\"1\" class=\"dataframe\">\n",
       "  <thead>\n",
       "    <tr style=\"text-align: right;\">\n",
       "      <th></th>\n",
       "      <th>Company_Name</th>\n",
       "      <th>Website</th>\n",
       "      <th>Location</th>\n",
       "      <th>Minimum Project Size</th>\n",
       "      <th>Average Hourly Rate</th>\n",
       "      <th>Number of Employees</th>\n",
       "      <th>Percent AI Service Focus</th>\n",
       "    </tr>\n",
       "  </thead>\n",
       "  <tbody>\n",
       "    <tr>\n",
       "      <th>0</th>\n",
       "      <td>Smith.ai</td>\n",
       "      <td>https://smith.ai/</td>\n",
       "      <td>Los Altos, CA</td>\n",
       "      <td>0</td>\n",
       "      <td>0</td>\n",
       "      <td>250-999</td>\n",
       "      <td>10</td>\n",
       "    </tr>\n",
       "    <tr>\n",
       "      <th>1</th>\n",
       "      <td>MooveIt</td>\n",
       "      <td>https://moove-it.com/</td>\n",
       "      <td>Austin, TX</td>\n",
       "      <td>100000</td>\n",
       "      <td>50-99</td>\n",
       "      <td>50-249</td>\n",
       "      <td>15</td>\n",
       "    </tr>\n",
       "    <tr>\n",
       "      <th>2</th>\n",
       "      <td>TechSpeedInc</td>\n",
       "      <td>http://www.techspeed.com/</td>\n",
       "      <td>Portland, OR</td>\n",
       "      <td>1000</td>\n",
       "      <td>25</td>\n",
       "      <td>50-249</td>\n",
       "      <td>40</td>\n",
       "    </tr>\n",
       "    <tr>\n",
       "      <th>3</th>\n",
       "      <td>WillDom</td>\n",
       "      <td>https://willdom.com/</td>\n",
       "      <td>Fort Lauderdale, FL</td>\n",
       "      <td>10000</td>\n",
       "      <td>50-99</td>\n",
       "      <td>250-999</td>\n",
       "      <td>10</td>\n",
       "    </tr>\n",
       "    <tr>\n",
       "      <th>4</th>\n",
       "      <td>Icreon</td>\n",
       "      <td>https://www.icreon.com/en</td>\n",
       "      <td>New York, NY</td>\n",
       "      <td>50000</td>\n",
       "      <td>100-149</td>\n",
       "      <td>250-999</td>\n",
       "      <td>10</td>\n",
       "    </tr>\n",
       "  </tbody>\n",
       "</table>\n",
       "</div>"
      ],
      "text/plain": [
       "   Company_Name                    Website             Location  \\\n",
       "0      Smith.ai          https://smith.ai/        Los Altos, CA   \n",
       "1       MooveIt      https://moove-it.com/           Austin, TX   \n",
       "2  TechSpeedInc  http://www.techspeed.com/         Portland, OR   \n",
       "3       WillDom       https://willdom.com/  Fort Lauderdale, FL   \n",
       "4        Icreon  https://www.icreon.com/en         New York, NY   \n",
       "\n",
       "   Minimum Project Size Average Hourly Rate Number of Employees  \\\n",
       "0                     0                   0             250-999   \n",
       "1                100000               50-99              50-249   \n",
       "2                  1000                  25              50-249   \n",
       "3                 10000               50-99             250-999   \n",
       "4                 50000             100-149             250-999   \n",
       "\n",
       "  Percent AI Service Focus  \n",
       "0                       10  \n",
       "1                       15  \n",
       "2                       40  \n",
       "3                       10  \n",
       "4                       10  "
      ]
     },
     "execution_count": 39,
     "metadata": {},
     "output_type": "execute_result"
    }
   ],
   "source": [
    "df.head()"
   ]
  },
  {
   "cell_type": "code",
   "execution_count": 40,
   "id": "ecc68c30",
   "metadata": {
    "execution": {
     "iopub.execute_input": "2022-07-08T06:17:51.151809Z",
     "iopub.status.busy": "2022-07-08T06:17:51.150552Z",
     "iopub.status.idle": "2022-07-08T06:17:51.160448Z",
     "shell.execute_reply": "2022-07-08T06:17:51.159463Z"
    },
    "papermill": {
     "duration": 0.034748,
     "end_time": "2022-07-08T06:17:51.162466",
     "exception": false,
     "start_time": "2022-07-08T06:17:51.127718",
     "status": "completed"
    },
    "tags": []
   },
   "outputs": [
    {
     "data": {
      "text/plain": [
       "10     879\n",
       "20     511\n",
       "100    353\n",
       "50     271\n",
       "25     249\n",
       "30     220\n",
       "15     187\n",
       "40     123\n",
       "60      76\n",
       "70      59\n",
       "80      48\n",
       "35      33\n",
       "75      16\n",
       "90      12\n",
       "45      10\n",
       "33       6\n",
       "55       5\n",
       "12       5\n",
       "65       5\n",
       "13       4\n",
       "23       4\n",
       "11       3\n",
       "16       3\n",
       "22       2\n",
       "17       2\n",
       "34       2\n",
       "31       1\n",
       "36       1\n",
       "37       1\n",
       "24       1\n",
       "19       1\n",
       "38       1\n",
       "56       1\n",
       "51       1\n",
       "49       1\n",
       "59       1\n",
       "85       1\n",
       "18       1\n",
       "Name: Percent AI Service Focus, dtype: int64"
      ]
     },
     "execution_count": 40,
     "metadata": {},
     "output_type": "execute_result"
    }
   ],
   "source": [
    "## Here by printing the frequency of each data of the attribute \"Percent AI Service Focus\" we can observe the \"%\" sign and the \"50 - 249\" sign are removed and replaced with the respective information. \n",
    "df[\"Percent AI Service Focus\"].value_counts()"
   ]
  },
  {
   "cell_type": "code",
   "execution_count": 41,
   "id": "171d1909",
   "metadata": {
    "execution": {
     "iopub.execute_input": "2022-07-08T06:17:51.207885Z",
     "iopub.status.busy": "2022-07-08T06:17:51.207268Z",
     "iopub.status.idle": "2022-07-08T06:17:51.216483Z",
     "shell.execute_reply": "2022-07-08T06:17:51.215341Z"
    },
    "papermill": {
     "duration": 0.034883,
     "end_time": "2022-07-08T06:17:51.218912",
     "exception": false,
     "start_time": "2022-07-08T06:17:51.184029",
     "status": "completed"
    },
    "tags": []
   },
   "outputs": [],
   "source": [
    "## Converting the datatype from \"object\" to \"int\"\n",
    "df[\"Percent AI Service Focus\"] = pd.to_numeric(df[\"Percent AI Service Focus\"], errors='ignore', downcast='integer')"
   ]
  },
  {
   "cell_type": "code",
   "execution_count": 42,
   "id": "61232855",
   "metadata": {
    "execution": {
     "iopub.execute_input": "2022-07-08T06:17:51.263952Z",
     "iopub.status.busy": "2022-07-08T06:17:51.263359Z",
     "iopub.status.idle": "2022-07-08T06:17:51.277310Z",
     "shell.execute_reply": "2022-07-08T06:17:51.275973Z"
    },
    "papermill": {
     "duration": 0.039536,
     "end_time": "2022-07-08T06:17:51.279906",
     "exception": false,
     "start_time": "2022-07-08T06:17:51.240370",
     "status": "completed"
    },
    "tags": []
   },
   "outputs": [
    {
     "name": "stdout",
     "output_type": "stream",
     "text": [
      "<class 'pandas.core.frame.DataFrame'>\n",
      "RangeIndex: 3100 entries, 0 to 3099\n",
      "Data columns (total 7 columns):\n",
      " #   Column                    Non-Null Count  Dtype \n",
      "---  ------                    --------------  ----- \n",
      " 0   Company_Name              3100 non-null   object\n",
      " 1   Website                   3099 non-null   object\n",
      " 2   Location                  3087 non-null   object\n",
      " 3   Minimum Project Size      3100 non-null   int32 \n",
      " 4   Average Hourly Rate       3100 non-null   object\n",
      " 5   Number of Employees       3100 non-null   object\n",
      " 6   Percent AI Service Focus  3100 non-null   int8  \n",
      "dtypes: int32(1), int8(1), object(5)\n",
      "memory usage: 136.4+ KB\n"
     ]
    }
   ],
   "source": [
    "df.info()"
   ]
  },
  {
   "cell_type": "code",
   "execution_count": 43,
   "id": "919ce8e4",
   "metadata": {
    "execution": {
     "iopub.execute_input": "2022-07-08T06:17:51.326486Z",
     "iopub.status.busy": "2022-07-08T06:17:51.325428Z",
     "iopub.status.idle": "2022-07-08T06:17:51.337145Z",
     "shell.execute_reply": "2022-07-08T06:17:51.335893Z"
    },
    "papermill": {
     "duration": 0.037477,
     "end_time": "2022-07-08T06:17:51.339446",
     "exception": false,
     "start_time": "2022-07-08T06:17:51.301969",
     "status": "completed"
    },
    "tags": []
   },
   "outputs": [
    {
     "data": {
      "text/plain": [
       "Company_Name                 0\n",
       "Website                      1\n",
       "Location                    13\n",
       "Minimum Project Size         0\n",
       "Average Hourly Rate          0\n",
       "Number of Employees          0\n",
       "Percent AI Service Focus     0\n",
       "dtype: int64"
      ]
     },
     "execution_count": 43,
     "metadata": {},
     "output_type": "execute_result"
    }
   ],
   "source": [
    "## Checking if the dataset has any null values or not.\n",
    "df.isnull().sum()"
   ]
  },
  {
   "cell_type": "code",
   "execution_count": 44,
   "id": "13e18577",
   "metadata": {
    "execution": {
     "iopub.execute_input": "2022-07-08T06:17:51.385719Z",
     "iopub.status.busy": "2022-07-08T06:17:51.384584Z",
     "iopub.status.idle": "2022-07-08T06:17:51.398683Z",
     "shell.execute_reply": "2022-07-08T06:17:51.397459Z"
    },
    "papermill": {
     "duration": 0.040761,
     "end_time": "2022-07-08T06:17:51.401632",
     "exception": false,
     "start_time": "2022-07-08T06:17:51.360871",
     "status": "completed"
    },
    "tags": []
   },
   "outputs": [
    {
     "data": {
      "text/plain": [
       "Company_Name                0.000000\n",
       "Website                     0.032258\n",
       "Location                    0.419355\n",
       "Minimum Project Size        0.000000\n",
       "Average Hourly Rate         0.000000\n",
       "Number of Employees         0.000000\n",
       "Percent AI Service Focus    0.000000\n",
       "dtype: float64"
      ]
     },
     "execution_count": 44,
     "metadata": {},
     "output_type": "execute_result"
    }
   ],
   "source": [
    "## Checking the % of null value in the dataframe.\n",
    "df.isnull().sum()/len(df)*100"
   ]
  },
  {
   "cell_type": "code",
   "execution_count": 45,
   "id": "15be7374",
   "metadata": {
    "execution": {
     "iopub.execute_input": "2022-07-08T06:17:51.447177Z",
     "iopub.status.busy": "2022-07-08T06:17:51.446789Z",
     "iopub.status.idle": "2022-07-08T06:17:51.453544Z",
     "shell.execute_reply": "2022-07-08T06:17:51.452236Z"
    },
    "papermill": {
     "duration": 0.032344,
     "end_time": "2022-07-08T06:17:51.455889",
     "exception": false,
     "start_time": "2022-07-08T06:17:51.423545",
     "status": "completed"
    },
    "tags": []
   },
   "outputs": [],
   "source": [
    "## Replacing the null values in the attribute \"Location\" with a new category known as \"Unidentified\".\n",
    "df.loc[df['Location'].isnull(),'Location']= 'Unidentified'"
   ]
  },
  {
   "cell_type": "code",
   "execution_count": 46,
   "id": "15705832",
   "metadata": {
    "execution": {
     "iopub.execute_input": "2022-07-08T06:17:51.502176Z",
     "iopub.status.busy": "2022-07-08T06:17:51.500817Z",
     "iopub.status.idle": "2022-07-08T06:17:51.508131Z",
     "shell.execute_reply": "2022-07-08T06:17:51.506986Z"
    },
    "papermill": {
     "duration": 0.033174,
     "end_time": "2022-07-08T06:17:51.510810",
     "exception": false,
     "start_time": "2022-07-08T06:17:51.477636",
     "status": "completed"
    },
    "tags": []
   },
   "outputs": [],
   "source": [
    "## Replacing the null values in the attribute \"Website\" with a new category known as \"Unidentified\".\n",
    "df.loc[df['Website'].isnull(),'Website']= 'Unidentified'"
   ]
  },
  {
   "cell_type": "code",
   "execution_count": 47,
   "id": "8926a525",
   "metadata": {
    "execution": {
     "iopub.execute_input": "2022-07-08T06:17:51.556538Z",
     "iopub.status.busy": "2022-07-08T06:17:51.556166Z",
     "iopub.status.idle": "2022-07-08T06:17:51.568803Z",
     "shell.execute_reply": "2022-07-08T06:17:51.567608Z"
    },
    "papermill": {
     "duration": 0.039104,
     "end_time": "2022-07-08T06:17:51.571624",
     "exception": false,
     "start_time": "2022-07-08T06:17:51.532520",
     "status": "completed"
    },
    "tags": []
   },
   "outputs": [
    {
     "data": {
      "text/plain": [
       "Company_Name                0.0\n",
       "Website                     0.0\n",
       "Location                    0.0\n",
       "Minimum Project Size        0.0\n",
       "Average Hourly Rate         0.0\n",
       "Number of Employees         0.0\n",
       "Percent AI Service Focus    0.0\n",
       "dtype: float64"
      ]
     },
     "execution_count": 47,
     "metadata": {},
     "output_type": "execute_result"
    }
   ],
   "source": [
    "## Checking the null value precense post the above changes.\n",
    "df.isnull().sum()/len(df)*100"
   ]
  },
  {
   "cell_type": "code",
   "execution_count": 48,
   "id": "fcbd99c4",
   "metadata": {
    "execution": {
     "iopub.execute_input": "2022-07-08T06:17:51.616812Z",
     "iopub.status.busy": "2022-07-08T06:17:51.616436Z",
     "iopub.status.idle": "2022-07-08T06:17:51.635827Z",
     "shell.execute_reply": "2022-07-08T06:17:51.634661Z"
    },
    "papermill": {
     "duration": 0.045166,
     "end_time": "2022-07-08T06:17:51.638592",
     "exception": false,
     "start_time": "2022-07-08T06:17:51.593426",
     "status": "completed"
    },
    "tags": []
   },
   "outputs": [
    {
     "data": {
      "text/html": [
       "<div>\n",
       "<style scoped>\n",
       "    .dataframe tbody tr th:only-of-type {\n",
       "        vertical-align: middle;\n",
       "    }\n",
       "\n",
       "    .dataframe tbody tr th {\n",
       "        vertical-align: top;\n",
       "    }\n",
       "\n",
       "    .dataframe thead th {\n",
       "        text-align: right;\n",
       "    }\n",
       "</style>\n",
       "<table border=\"1\" class=\"dataframe\">\n",
       "  <thead>\n",
       "    <tr style=\"text-align: right;\">\n",
       "      <th></th>\n",
       "      <th>Minimum Project Size</th>\n",
       "      <th>Percent AI Service Focus</th>\n",
       "    </tr>\n",
       "  </thead>\n",
       "  <tbody>\n",
       "    <tr>\n",
       "      <th>count</th>\n",
       "      <td>3100.000000</td>\n",
       "      <td>3100.000000</td>\n",
       "    </tr>\n",
       "    <tr>\n",
       "      <th>mean</th>\n",
       "      <td>9232.903226</td>\n",
       "      <td>34.373226</td>\n",
       "    </tr>\n",
       "    <tr>\n",
       "      <th>std</th>\n",
       "      <td>21692.784744</td>\n",
       "      <td>29.097577</td>\n",
       "    </tr>\n",
       "    <tr>\n",
       "      <th>min</th>\n",
       "      <td>0.000000</td>\n",
       "      <td>10.000000</td>\n",
       "    </tr>\n",
       "    <tr>\n",
       "      <th>25%</th>\n",
       "      <td>0.000000</td>\n",
       "      <td>10.000000</td>\n",
       "    </tr>\n",
       "    <tr>\n",
       "      <th>50%</th>\n",
       "      <td>1000.000000</td>\n",
       "      <td>20.000000</td>\n",
       "    </tr>\n",
       "    <tr>\n",
       "      <th>75%</th>\n",
       "      <td>10000.000000</td>\n",
       "      <td>50.000000</td>\n",
       "    </tr>\n",
       "    <tr>\n",
       "      <th>max</th>\n",
       "      <td>250000.000000</td>\n",
       "      <td>100.000000</td>\n",
       "    </tr>\n",
       "  </tbody>\n",
       "</table>\n",
       "</div>"
      ],
      "text/plain": [
       "       Minimum Project Size  Percent AI Service Focus\n",
       "count           3100.000000               3100.000000\n",
       "mean            9232.903226                 34.373226\n",
       "std            21692.784744                 29.097577\n",
       "min                0.000000                 10.000000\n",
       "25%                0.000000                 10.000000\n",
       "50%             1000.000000                 20.000000\n",
       "75%            10000.000000                 50.000000\n",
       "max           250000.000000                100.000000"
      ]
     },
     "execution_count": 48,
     "metadata": {},
     "output_type": "execute_result"
    }
   ],
   "source": [
    "df.describe()"
   ]
  },
  {
   "cell_type": "markdown",
   "id": "404120a7",
   "metadata": {
    "papermill": {
     "duration": 0.021674,
     "end_time": "2022-07-08T06:17:51.682140",
     "exception": false,
     "start_time": "2022-07-08T06:17:51.660466",
     "status": "completed"
    },
    "tags": []
   },
   "source": [
    "## Outlier Analysis."
   ]
  },
  {
   "cell_type": "code",
   "execution_count": 49,
   "id": "4cf61377",
   "metadata": {
    "execution": {
     "iopub.execute_input": "2022-07-08T06:17:51.728318Z",
     "iopub.status.busy": "2022-07-08T06:17:51.727484Z",
     "iopub.status.idle": "2022-07-08T06:17:51.941684Z",
     "shell.execute_reply": "2022-07-08T06:17:51.940551Z"
    },
    "papermill": {
     "duration": 0.240021,
     "end_time": "2022-07-08T06:17:51.944172",
     "exception": false,
     "start_time": "2022-07-08T06:17:51.704151",
     "status": "completed"
    },
    "tags": []
   },
   "outputs": [
    {
     "data": {
      "text/plain": [
       "Text(0.5, 1.0, 'Distibution for Minimum Project Size')"
      ]
     },
     "execution_count": 49,
     "metadata": {},
     "output_type": "execute_result"
    },
    {
     "data": {
      "image/png": "[encoded data removed]",
      "text/plain": [
       "<Figure size 720x432 with 1 Axes>"
      ]
     },
     "metadata": {
      "needs_background": "light"
     },
     "output_type": "display_data"
    }
   ],
   "source": [
    "## Distribution of 'Minimum Project Size'.\n",
    "plt.figure(figsize = [10,6]) \n",
    "sns.boxplot(data=df, y='Minimum Project Size')\n",
    "plt.title('Distibution for Minimum Project Size')"
   ]
  },
  {
   "cell_type": "code",
   "execution_count": 50,
   "id": "e094fc26",
   "metadata": {
    "execution": {
     "iopub.execute_input": "2022-07-08T06:17:51.992090Z",
     "iopub.status.busy": "2022-07-08T06:17:51.990857Z",
     "iopub.status.idle": "2022-07-08T06:17:51.995970Z",
     "shell.execute_reply": "2022-07-08T06:17:51.995122Z"
    },
    "papermill": {
     "duration": 0.031464,
     "end_time": "2022-07-08T06:17:51.998234",
     "exception": false,
     "start_time": "2022-07-08T06:17:51.966770",
     "status": "completed"
    },
    "tags": []
   },
   "outputs": [],
   "source": [
    "## The above analysis we can observe that there are very few outliers."
   ]
  },
  {
   "cell_type": "code",
   "execution_count": 51,
   "id": "b2469112",
   "metadata": {
    "execution": {
     "iopub.execute_input": "2022-07-08T06:17:52.045773Z",
     "iopub.status.busy": "2022-07-08T06:17:52.044717Z",
     "iopub.status.idle": "2022-07-08T06:17:52.208664Z",
     "shell.execute_reply": "2022-07-08T06:17:52.207479Z"
    },
    "papermill": {
     "duration": 0.190373,
     "end_time": "2022-07-08T06:17:52.211269",
     "exception": false,
     "start_time": "2022-07-08T06:17:52.020896",
     "status": "completed"
    },
    "tags": []
   },
   "outputs": [
    {
     "data": {
      "text/plain": [
       "Text(0.5, 1.0, 'Distibution for Percent AI Service Focus')"
      ]
     },
     "execution_count": 51,
     "metadata": {},
     "output_type": "execute_result"
    },
    {
     "data": {
      "image/png": "[encoded data removed]",
      "text/plain": [
       "<Figure size 720x432 with 1 Axes>"
      ]
     },
     "metadata": {
      "needs_background": "light"
     },
     "output_type": "display_data"
    }
   ],
   "source": [
    "## Distribution of 'Percent AI Service Focus'.\n",
    "plt.figure(figsize = [10,6]) \n",
    "sns.boxplot(data=df, y='Percent AI Service Focus')\n",
    "plt.title('Distibution for Percent AI Service Focus')"
   ]
  },
  {
   "cell_type": "code",
   "execution_count": 52,
   "id": "85a4aede",
   "metadata": {
    "execution": {
     "iopub.execute_input": "2022-07-08T06:17:52.260488Z",
     "iopub.status.busy": "2022-07-08T06:17:52.259799Z",
     "iopub.status.idle": "2022-07-08T06:17:52.263796Z",
     "shell.execute_reply": "2022-07-08T06:17:52.262847Z"
    },
    "papermill": {
     "duration": 0.031414,
     "end_time": "2022-07-08T06:17:52.266142",
     "exception": false,
     "start_time": "2022-07-08T06:17:52.234728",
     "status": "completed"
    },
    "tags": []
   },
   "outputs": [],
   "source": [
    "## The above analysis we can observe that there are no outliers."
   ]
  },
  {
   "cell_type": "markdown",
   "id": "04b3367f",
   "metadata": {
    "papermill": {
     "duration": 0.022386,
     "end_time": "2022-07-08T06:17:52.311575",
     "exception": false,
     "start_time": "2022-07-08T06:17:52.289189",
     "status": "completed"
    },
    "tags": []
   },
   "source": [
    "## Univariate Analysis."
   ]
  },
  {
   "cell_type": "code",
   "execution_count": 53,
   "id": "83c3e970",
   "metadata": {
    "execution": {
     "iopub.execute_input": "2022-07-08T06:17:52.360333Z",
     "iopub.status.busy": "2022-07-08T06:17:52.359630Z",
     "iopub.status.idle": "2022-07-08T06:17:52.720661Z",
     "shell.execute_reply": "2022-07-08T06:17:52.719429Z"
    },
    "papermill": {
     "duration": 0.388239,
     "end_time": "2022-07-08T06:17:52.723494",
     "exception": false,
     "start_time": "2022-07-08T06:17:52.335255",
     "status": "completed"
    },
    "tags": []
   },
   "outputs": [
    {
     "data": {
      "image/png": "[encoded data removed]",
      "text/plain": [
       "<Figure size 1440x792 with 1 Axes>"
      ]
     },
     "metadata": {},
     "output_type": "display_data"
    }
   ],
   "source": [
    "## Minimum Project sizes.\n",
    "plt.figure(figsize = [20,11])\n",
    "df['Minimum Project Size'].value_counts().plot.pie()\n",
    "plt.legend()\n",
    "plt.show()"
   ]
  },
  {
   "cell_type": "code",
   "execution_count": 54,
   "id": "d7fa2a60",
   "metadata": {
    "execution": {
     "iopub.execute_input": "2022-07-08T06:17:52.789199Z",
     "iopub.status.busy": "2022-07-08T06:17:52.788743Z",
     "iopub.status.idle": "2022-07-08T06:17:53.237452Z",
     "shell.execute_reply": "2022-07-08T06:17:53.236388Z"
    },
    "papermill": {
     "duration": 0.494917,
     "end_time": "2022-07-08T06:17:53.242345",
     "exception": false,
     "start_time": "2022-07-08T06:17:52.747428",
     "status": "completed"
    },
    "tags": []
   },
   "outputs": [
    {
     "data": {
      "image/png": "[encoded data removed]",
      "text/plain": [
       "<Figure size 1440x792 with 1 Axes>"
      ]
     },
     "metadata": {
      "needs_background": "light"
     },
     "output_type": "display_data"
    }
   ],
   "source": [
    "## Percentage of AI service.\n",
    "plt.figure(figsize = [20,11])\n",
    "sns.countplot(df['Percent AI Service Focus'])\n",
    "plt.title(\"Distribution of Percent AI Service Focus\")\n",
    "plt.show()"
   ]
  },
  {
   "cell_type": "code",
   "execution_count": 55,
   "id": "3d17953a",
   "metadata": {
    "execution": {
     "iopub.execute_input": "2022-07-08T06:17:53.303660Z",
     "iopub.status.busy": "2022-07-08T06:17:53.303289Z",
     "iopub.status.idle": "2022-07-08T06:17:53.551191Z",
     "shell.execute_reply": "2022-07-08T06:17:53.549697Z"
    },
    "papermill": {
     "duration": 0.276308,
     "end_time": "2022-07-08T06:17:53.554472",
     "exception": false,
     "start_time": "2022-07-08T06:17:53.278164",
     "status": "completed"
    },
    "tags": []
   },
   "outputs": [
    {
     "data": {
      "image/png": "[encoded data removed]",
      "text/plain": [
       "<Figure size 1440x792 with 1 Axes>"
      ]
     },
     "metadata": {
      "needs_background": "light"
     },
     "output_type": "display_data"
    }
   ],
   "source": [
    "## Distribution of Average Hourly Rate.\n",
    "plt.figure(figsize = [20,11])\n",
    "sns.countplot(df['Average Hourly Rate'])\n",
    "plt.title(\"Distribution of Average Hourly Rate\")\n",
    "plt.show()"
   ]
  },
  {
   "cell_type": "code",
   "execution_count": 56,
   "id": "579bdd7e",
   "metadata": {
    "execution": {
     "iopub.execute_input": "2022-07-08T06:17:53.612944Z",
     "iopub.status.busy": "2022-07-08T06:17:53.612144Z",
     "iopub.status.idle": "2022-07-08T06:17:53.882816Z",
     "shell.execute_reply": "2022-07-08T06:17:53.881491Z"
    },
    "papermill": {
     "duration": 0.299634,
     "end_time": "2022-07-08T06:17:53.885548",
     "exception": false,
     "start_time": "2022-07-08T06:17:53.585914",
     "status": "completed"
    },
    "tags": []
   },
   "outputs": [
    {
     "data": {
      "image/png": "[encoded data removed]",
      "text/plain": [
       "<Figure size 432x288 with 1 Axes>"
      ]
     },
     "metadata": {
      "needs_background": "light"
     },
     "output_type": "display_data"
    }
   ],
   "source": [
    "sns.distplot(df['Minimum Project Size'], bins=20)\n",
    "plt.title(\"Distribition of Minimum Project Size\")\n",
    "plt.show()"
   ]
  },
  {
   "cell_type": "code",
   "execution_count": 57,
   "id": "7be8db51",
   "metadata": {
    "execution": {
     "iopub.execute_input": "2022-07-08T06:17:53.939464Z",
     "iopub.status.busy": "2022-07-08T06:17:53.939028Z",
     "iopub.status.idle": "2022-07-08T06:17:54.195188Z",
     "shell.execute_reply": "2022-07-08T06:17:54.193927Z"
    },
    "papermill": {
     "duration": 0.287072,
     "end_time": "2022-07-08T06:17:54.197980",
     "exception": false,
     "start_time": "2022-07-08T06:17:53.910908",
     "status": "completed"
    },
    "tags": []
   },
   "outputs": [
    {
     "data": {
      "image/png": "[encoded data removed]",
      "text/plain": [
       "<Figure size 432x288 with 1 Axes>"
      ]
     },
     "metadata": {
      "needs_background": "light"
     },
     "output_type": "display_data"
    }
   ],
   "source": [
    "sns.distplot(df['Percent AI Service Focus'], bins=20)\n",
    "plt.title(\"Distribition of Percent AI Service Focus\")\n",
    "plt.show()"
   ]
  },
  {
   "cell_type": "markdown",
   "id": "9029864d",
   "metadata": {
    "papermill": {
     "duration": 0.025319,
     "end_time": "2022-07-08T06:17:54.249269",
     "exception": false,
     "start_time": "2022-07-08T06:17:54.223950",
     "status": "completed"
    },
    "tags": []
   },
   "source": [
    "## Bivariate Analysis"
   ]
  },
  {
   "cell_type": "code",
   "execution_count": 58,
   "id": "32ac9289",
   "metadata": {
    "execution": {
     "iopub.execute_input": "2022-07-08T06:17:54.302106Z",
     "iopub.status.busy": "2022-07-08T06:17:54.301635Z",
     "iopub.status.idle": "2022-07-08T06:17:55.740505Z",
     "shell.execute_reply": "2022-07-08T06:17:55.739152Z"
    },
    "papermill": {
     "duration": 1.46852,
     "end_time": "2022-07-08T06:17:55.743105",
     "exception": false,
     "start_time": "2022-07-08T06:17:54.274585",
     "status": "completed"
    },
    "tags": []
   },
   "outputs": [
    {
     "data": {
      "text/plain": [
       "<Figure size 1008x2160 with 0 Axes>"
      ]
     },
     "metadata": {},
     "output_type": "display_data"
    },
    {
     "data": {
      "image/png": "[encoded data removed]",
      "text/plain": [
       "<Figure size 360x360 with 6 Axes>"
      ]
     },
     "metadata": {
      "needs_background": "light"
     },
     "output_type": "display_data"
    }
   ],
   "source": [
    "## Distribution of the attributes in pair plot.\n",
    "plt.figure(figsize = (14,30))\n",
    "sns.pairplot(data=df,vars=['Minimum Project Size', 'Percent AI Service Focus'])\n",
    "plt.show()"
   ]
  },
  {
   "cell_type": "code",
   "execution_count": 59,
   "id": "75f0a349",
   "metadata": {
    "execution": {
     "iopub.execute_input": "2022-07-08T06:17:55.799169Z",
     "iopub.status.busy": "2022-07-08T06:17:55.798013Z",
     "iopub.status.idle": "2022-07-08T06:17:55.803674Z",
     "shell.execute_reply": "2022-07-08T06:17:55.802846Z"
    },
    "papermill": {
     "duration": 0.036506,
     "end_time": "2022-07-08T06:17:55.806418",
     "exception": false,
     "start_time": "2022-07-08T06:17:55.769912",
     "status": "completed"
    },
    "tags": []
   },
   "outputs": [],
   "source": [
    "## From the above analysis we can't find any visible pattern in between \"Minimum Project Size\" and \"Percent AI Service Focus\"."
   ]
  },
  {
   "cell_type": "code",
   "execution_count": 60,
   "id": "e312b167",
   "metadata": {
    "execution": {
     "iopub.execute_input": "2022-07-08T06:17:55.861839Z",
     "iopub.status.busy": "2022-07-08T06:17:55.861300Z",
     "iopub.status.idle": "2022-07-08T06:17:57.148527Z",
     "shell.execute_reply": "2022-07-08T06:17:57.147252Z"
    },
    "papermill": {
     "duration": 1.317821,
     "end_time": "2022-07-08T06:17:57.151359",
     "exception": false,
     "start_time": "2022-07-08T06:17:55.833538",
     "status": "completed"
    },
    "tags": []
   },
   "outputs": [
    {
     "data": {
      "image/png": "[encoded data removed]",
      "text/plain": [
       "<Figure size 1440x792 with 1 Axes>"
      ]
     },
     "metadata": {
      "needs_background": "light"
     },
     "output_type": "display_data"
    }
   ],
   "source": [
    "## Distibution of \"Percent AI Service Focus\" vs \"Minimum Project Size\".\n",
    "plt.figure(figsize = [20,11])\n",
    "sns.barplot('Percent AI Service Focus','Minimum Project Size',data=df,palette=\"flare\")\n",
    "plt.show()"
   ]
  },
  {
   "cell_type": "markdown",
   "id": "3cd90ccf",
   "metadata": {
    "papermill": {
     "duration": 0.025637,
     "end_time": "2022-07-08T06:17:57.203292",
     "exception": false,
     "start_time": "2022-07-08T06:17:57.177655",
     "status": "completed"
    },
    "tags": []
   },
   "source": [
    "## Multivariate Analysis"
   ]
  },
  {
   "cell_type": "code",
   "execution_count": 61,
   "id": "c41e8c1e",
   "metadata": {
    "execution": {
     "iopub.execute_input": "2022-07-08T06:17:57.256895Z",
     "iopub.status.busy": "2022-07-08T06:17:57.256518Z",
     "iopub.status.idle": "2022-07-08T06:17:57.515513Z",
     "shell.execute_reply": "2022-07-08T06:17:57.514315Z"
    },
    "papermill": {
     "duration": 0.289207,
     "end_time": "2022-07-08T06:17:57.518217",
     "exception": false,
     "start_time": "2022-07-08T06:17:57.229010",
     "status": "completed"
    },
    "tags": []
   },
   "outputs": [
    {
     "data": {
      "image/png": "[encoded data removed]",
      "text/plain": [
       "<Figure size 1008x576 with 2 Axes>"
      ]
     },
     "metadata": {
      "needs_background": "light"
     },
     "output_type": "display_data"
    }
   ],
   "source": [
    "plt.figure(figsize=(14,8))\n",
    "num_features = [\"Percent AI Service Focus\", \"Minimum Project Size\"]\n",
    "plt.title(\"Correlation of the numeric features\",fontsize=10)\n",
    "sns.heatmap(df[num_features].corr(),annot= True,cmap=\"YlGnBu\")\n",
    "plt.show()"
   ]
  },
  {
   "cell_type": "markdown",
   "id": "99b02627",
   "metadata": {
    "execution": {
     "iopub.execute_input": "2022-07-08T06:14:38.393893Z",
     "iopub.status.busy": "2022-07-08T06:14:38.393398Z",
     "iopub.status.idle": "2022-07-08T06:14:38.426457Z",
     "shell.execute_reply": "2022-07-08T06:14:38.424890Z",
     "shell.execute_reply.started": "2022-07-08T06:14:38.393796Z"
    },
    "papermill": {
     "duration": 0.026069,
     "end_time": "2022-07-08T06:17:57.571734",
     "exception": false,
     "start_time": "2022-07-08T06:17:57.545665",
     "status": "completed"
    },
    "tags": []
   },
   "source": [
    "#### Thanks!! for viewing my work. \n",
    "\n",
    "#### The above analysis is done to understand what are the various features responsible for the development of AI Companies.\n",
    "\n",
    "#### Feel free to drop your suggestion in the comment.\n",
    "\n",
    "#### Happy Coding!!"
   ]
  },
  {
   "cell_type": "code",
   "execution_count": null,
   "id": "c4a662c8",
   "metadata": {
    "papermill": {
     "duration": 0.025991,
     "end_time": "2022-07-08T06:17:57.624019",
     "exception": false,
     "start_time": "2022-07-08T06:17:57.598028",
     "status": "completed"
    },
    "tags": []
   },
   "outputs": [],
   "source": []
  }
 ],
 "metadata": {
  "kernelspec": {
   "display_name": "Python 3",
   "language": "python",
   "name": "python3"
  },
  "language_info": {
   "codemirror_mode": {
    "name": "ipython",
    "version": 3
   },
   "file_extension": ".py",
   "mimetype": "text/x-python",
   "name": "python",
   "nbconvert_exporter": "python",
   "pygments_lexer": "ipython3",
   "version": "3.7.12"
  },
  "papermill": {
   "default_parameters": {},
   "duration": 21.293763,
   "end_time": "2022-07-08T06:17:58.475451",
   "environment_variables": {},
   "exception": null,
   "input_path": "__notebook__.ipynb",
   "output_path": "__notebook__.ipynb",
   "parameters": {},
   "start_time": "2022-07-08T06:17:37.181688",
   "version": "2.3.4"
  }
 },
 "nbformat": 4,
 "nbformat_minor": 5
}
